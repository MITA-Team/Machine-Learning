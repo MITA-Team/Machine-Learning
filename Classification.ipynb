{
  "cells": [
    {
      "cell_type": "code",
      "execution_count": 1,
      "metadata": {
        "id": "m1JJJDUteosB"
      },
      "outputs": [],
      "source": [
        "import pandas as pd\n",
        "import numpy as np\n",
        "import tensorflow as tf\n",
        "from sklearn.model_selection import train_test_split\n",
        "from sklearn.preprocessing import StandardScaler\n",
        "from sklearn.metrics import mean_squared_error"
      ]
    },
    {
      "cell_type": "code",
      "execution_count": 2,
      "metadata": {
        "colab": {
          "base_uri": "https://localhost:8080/",
          "height": 255
        },
        "id": "hIfUixgLC_do",
        "outputId": "6afcdf2b-456e-48c6-e187-8a2726b92366"
      },
      "outputs": [
        {
          "data": {
            "text/html": [
              "<div>\n",
              "<style scoped>\n",
              "    .dataframe tbody tr th:only-of-type {\n",
              "        vertical-align: middle;\n",
              "    }\n",
              "\n",
              "    .dataframe tbody tr th {\n",
              "        vertical-align: top;\n",
              "    }\n",
              "\n",
              "    .dataframe thead th {\n",
              "        text-align: right;\n",
              "    }\n",
              "</style>\n",
              "<table border=\"1\" class=\"dataframe\">\n",
              "  <thead>\n",
              "    <tr style=\"text-align: right;\">\n",
              "      <th></th>\n",
              "      <th>Case_No</th>\n",
              "      <th>A1</th>\n",
              "      <th>A2</th>\n",
              "      <th>A3</th>\n",
              "      <th>A4</th>\n",
              "      <th>A5</th>\n",
              "      <th>A6</th>\n",
              "      <th>A7</th>\n",
              "      <th>A8</th>\n",
              "      <th>A9</th>\n",
              "      <th>...</th>\n",
              "      <th>Physical</th>\n",
              "      <th>Total</th>\n",
              "      <th>Age_Years</th>\n",
              "      <th>Sex</th>\n",
              "      <th>Jaundice</th>\n",
              "      <th>Family_mem_with_ASD</th>\n",
              "      <th>Who_completed_the_test</th>\n",
              "      <th>ASD_traits</th>\n",
              "      <th>Therapy</th>\n",
              "      <th>Percentage</th>\n",
              "    </tr>\n",
              "  </thead>\n",
              "  <tbody>\n",
              "    <tr>\n",
              "      <th>0</th>\n",
              "      <td>1</td>\n",
              "      <td>0</td>\n",
              "      <td>0</td>\n",
              "      <td>0</td>\n",
              "      <td>0</td>\n",
              "      <td>0</td>\n",
              "      <td>0</td>\n",
              "      <td>1</td>\n",
              "      <td>1</td>\n",
              "      <td>0</td>\n",
              "      <td>...</td>\n",
              "      <td>2</td>\n",
              "      <td>3</td>\n",
              "      <td>2</td>\n",
              "      <td>1</td>\n",
              "      <td>1</td>\n",
              "      <td>0</td>\n",
              "      <td>0</td>\n",
              "      <td>0</td>\n",
              "      <td>9</td>\n",
              "      <td>[0:2:2:2]</td>\n",
              "    </tr>\n",
              "    <tr>\n",
              "      <th>1</th>\n",
              "      <td>2</td>\n",
              "      <td>1</td>\n",
              "      <td>1</td>\n",
              "      <td>0</td>\n",
              "      <td>0</td>\n",
              "      <td>0</td>\n",
              "      <td>1</td>\n",
              "      <td>1</td>\n",
              "      <td>0</td>\n",
              "      <td>0</td>\n",
              "      <td>...</td>\n",
              "      <td>1</td>\n",
              "      <td>4</td>\n",
              "      <td>3</td>\n",
              "      <td>0</td>\n",
              "      <td>1</td>\n",
              "      <td>0</td>\n",
              "      <td>0</td>\n",
              "      <td>1</td>\n",
              "      <td>5</td>\n",
              "      <td>[1:2:1:4]</td>\n",
              "    </tr>\n",
              "    <tr>\n",
              "      <th>2</th>\n",
              "      <td>3</td>\n",
              "      <td>1</td>\n",
              "      <td>0</td>\n",
              "      <td>0</td>\n",
              "      <td>0</td>\n",
              "      <td>0</td>\n",
              "      <td>0</td>\n",
              "      <td>1</td>\n",
              "      <td>1</td>\n",
              "      <td>0</td>\n",
              "      <td>...</td>\n",
              "      <td>2</td>\n",
              "      <td>4</td>\n",
              "      <td>3</td>\n",
              "      <td>0</td>\n",
              "      <td>1</td>\n",
              "      <td>0</td>\n",
              "      <td>0</td>\n",
              "      <td>1</td>\n",
              "      <td>8</td>\n",
              "      <td>[1:3:2:3]</td>\n",
              "    </tr>\n",
              "    <tr>\n",
              "      <th>3</th>\n",
              "      <td>4</td>\n",
              "      <td>1</td>\n",
              "      <td>1</td>\n",
              "      <td>1</td>\n",
              "      <td>1</td>\n",
              "      <td>1</td>\n",
              "      <td>1</td>\n",
              "      <td>1</td>\n",
              "      <td>1</td>\n",
              "      <td>1</td>\n",
              "      <td>...</td>\n",
              "      <td>3</td>\n",
              "      <td>10</td>\n",
              "      <td>2</td>\n",
              "      <td>0</td>\n",
              "      <td>0</td>\n",
              "      <td>0</td>\n",
              "      <td>0</td>\n",
              "      <td>1</td>\n",
              "      <td>4</td>\n",
              "      <td>[3:4:3:9]</td>\n",
              "    </tr>\n",
              "    <tr>\n",
              "      <th>4</th>\n",
              "      <td>5</td>\n",
              "      <td>1</td>\n",
              "      <td>1</td>\n",
              "      <td>0</td>\n",
              "      <td>1</td>\n",
              "      <td>1</td>\n",
              "      <td>1</td>\n",
              "      <td>1</td>\n",
              "      <td>1</td>\n",
              "      <td>1</td>\n",
              "      <td>...</td>\n",
              "      <td>3</td>\n",
              "      <td>9</td>\n",
              "      <td>2</td>\n",
              "      <td>1</td>\n",
              "      <td>0</td>\n",
              "      <td>1</td>\n",
              "      <td>0</td>\n",
              "      <td>1</td>\n",
              "      <td>8</td>\n",
              "      <td>[2:4:3:8]</td>\n",
              "    </tr>\n",
              "  </tbody>\n",
              "</table>\n",
              "<p>5 rows × 24 columns</p>\n",
              "</div>"
            ],
            "text/plain": [
              "   Case_No  A1  A2  A3  A4  A5  A6  A7  A8  A9  ...  Physical  Total  \\\n",
              "0        1   0   0   0   0   0   0   1   1   0  ...         2      3   \n",
              "1        2   1   1   0   0   0   1   1   0   0  ...         1      4   \n",
              "2        3   1   0   0   0   0   0   1   1   0  ...         2      4   \n",
              "3        4   1   1   1   1   1   1   1   1   1  ...         3     10   \n",
              "4        5   1   1   0   1   1   1   1   1   1  ...         3      9   \n",
              "\n",
              "   Age_Years  Sex  Jaundice  Family_mem_with_ASD  Who_completed_the_test  \\\n",
              "0          2    1         1                    0                       0   \n",
              "1          3    0         1                    0                       0   \n",
              "2          3    0         1                    0                       0   \n",
              "3          2    0         0                    0                       0   \n",
              "4          2    1         0                    1                       0   \n",
              "\n",
              "   ASD_traits  Therapy  Percentage  \n",
              "0           0        9   [0:2:2:2]  \n",
              "1           1        5   [1:2:1:4]  \n",
              "2           1        8   [1:3:2:3]  \n",
              "3           1        4   [3:4:3:9]  \n",
              "4           1        8   [2:4:3:8]  \n",
              "\n",
              "[5 rows x 24 columns]"
            ]
          },
          "execution_count": 2,
          "metadata": {},
          "output_type": "execute_result"
        }
      ],
      "source": [
        "url = 'https://github.com/MITA-Team/Machine-Learning/raw/main/Datasets.csv'\n",
        "data = pd.read_csv(url)\n",
        "data.head(5)"
      ]
    },
    {
      "cell_type": "code",
      "execution_count": 3,
      "metadata": {
        "id": "dUkITtnwDKQb"
      },
      "outputs": [],
      "source": [
        "X = data.drop(['Therapy', 'ASD_traits', 'Percentage', 'Case_No'], axis=1)\n",
        "Y = data['ASD_traits']"
      ]
    },
    {
      "cell_type": "code",
      "execution_count": 4,
      "metadata": {
        "id": "kQLiQ2kEzrtP"
      },
      "outputs": [],
      "source": [
        "# Split data\n",
        "training_size= int(len(data)*0.8)\n",
        "\n",
        "X_train = X[:training_size]\n",
        "X_test = X[training_size:]\n",
        "Y_train = Y[:training_size]\n",
        "Y_test = Y[training_size:]\n",
        "\n",
        "# Menskalakan data input\n",
        "scaler = StandardScaler()\n",
        "X_train = scaler.fit_transform(X_train)\n",
        "X_test = scaler.transform(X_test)"
      ]
    },
    {
      "cell_type": "code",
      "execution_count": 5,
      "metadata": {
        "colab": {
          "base_uri": "https://localhost:8080/"
        },
        "id": "V98VUmNxTLW3",
        "outputId": "61cdb713-f1fd-4d51-8644-07254313b9f6"
      },
      "outputs": [
        {
          "name": "stdout",
          "output_type": "stream",
          "text": [
            "Epoch 1/10\n",
            "57/57 [==============================] - 3s 19ms/step - loss: 0.2028 - accuracy: 0.9551 - val_loss: 0.0855 - val_accuracy: 0.9933\n",
            "Epoch 2/10\n",
            "57/57 [==============================] - 0s 6ms/step - loss: 0.0552 - accuracy: 0.9945 - val_loss: 0.0628 - val_accuracy: 0.9956\n",
            "Epoch 3/10\n",
            "57/57 [==============================] - 0s 5ms/step - loss: 0.0355 - accuracy: 0.9983 - val_loss: 0.0543 - val_accuracy: 0.9956\n",
            "Epoch 4/10\n",
            "57/57 [==============================] - 0s 4ms/step - loss: 0.0263 - accuracy: 0.9983 - val_loss: 0.0492 - val_accuracy: 0.9956\n",
            "Epoch 5/10\n",
            "57/57 [==============================] - 0s 5ms/step - loss: 0.0218 - accuracy: 0.9983 - val_loss: 0.0453 - val_accuracy: 0.9956\n",
            "Epoch 6/10\n",
            "57/57 [==============================] - 0s 5ms/step - loss: 0.0187 - accuracy: 0.9983 - val_loss: 0.0418 - val_accuracy: 0.9956\n",
            "Epoch 7/10\n",
            "57/57 [==============================] - 0s 5ms/step - loss: 0.0161 - accuracy: 0.9983 - val_loss: 0.0376 - val_accuracy: 0.9956\n",
            "Epoch 8/10\n",
            "57/57 [==============================] - 0s 4ms/step - loss: 0.0139 - accuracy: 0.9983 - val_loss: 0.0330 - val_accuracy: 0.9956\n",
            "Epoch 9/10\n",
            "57/57 [==============================] - 0s 4ms/step - loss: 0.0127 - accuracy: 0.9983 - val_loss: 0.0310 - val_accuracy: 0.9956\n",
            "Epoch 10/10\n",
            "57/57 [==============================] - 0s 5ms/step - loss: 0.0110 - accuracy: 0.9983 - val_loss: 0.0271 - val_accuracy: 0.9956\n"
          ]
        }
      ],
      "source": [
        "# Model untuk klasifikasi \n",
        "model = tf.keras.models.Sequential([\n",
        "    tf.keras.layers.Dense(128, activation='relu', input_shape=(X_train.shape[1],)),\n",
        "    tf.keras.layers.Dense(64, activation='relu'),\n",
        "    tf.keras.layers.Dense(1, activation='sigmoid')\n",
        "])\n",
        "model.compile(optimizer='adam', loss='binary_crossentropy', metrics=['accuracy'])\n",
        "history=model.fit(X_train, Y_train, epochs=10,validation_data=(X_test, Y_test))"
      ]
    },
    {
      "cell_type": "code",
      "execution_count": 6,
      "metadata": {
        "colab": {
          "base_uri": "https://localhost:8080/",
          "height": 472
        },
        "id": "7FGB8ZZB79jI",
        "outputId": "34d854fc-dd32-42d6-e03d-5efedcf92bb2"
      },
      "outputs": [
        {
          "data": {
            "image/png": "[encoded data removed]",
            "text/plain": [
              "<Figure size 640x480 with 1 Axes>"
            ]
          },
          "metadata": {},
          "output_type": "display_data"
        }
      ],
      "source": [
        "import matplotlib.pyplot as plt\n",
        "\n",
        "plt.plot(history.history['accuracy'])\n",
        "plt.plot(history.history['val_accuracy'])\n",
        "plt.title('Model Accuracy')\n",
        "plt.ylabel(\"Accuracy\")\n",
        "plt.xlabel('Epoch')\n",
        "plt.legend(['Train', 'validation'], loc='upper left')\n",
        "plt.show()"
      ]
    },
    {
      "cell_type": "code",
      "execution_count": 7,
      "metadata": {
        "colab": {
          "base_uri": "https://localhost:8080/",
          "height": 472
        },
        "id": "mjEf1Ch69e1f",
        "outputId": "bae678ee-1e82-4825-f53d-9b6a85886a1d"
      },
      "outputs": [
        {
          "data": {
            "image/png": "[encoded data removed]",
            "text/plain": [
              "<Figure size 640x480 with 1 Axes>"
            ]
          },
          "metadata": {},
          "output_type": "display_data"
        }
      ],
      "source": [
        "plt.plot(history.history['loss'])\n",
        "plt.plot(history.history['val_loss'])\n",
        "plt.title('Model Loss')\n",
        "plt.ylabel(\"Loss\")\n",
        "plt.xlabel('Epoch')\n",
        "plt.legend(['Train', 'validation'], loc='upper left')\n",
        "plt.show()"
      ]
    },
    {
      "cell_type": "code",
      "execution_count": 8,
      "metadata": {
        "id": "9HCZUVLG9433"
      },
      "outputs": [],
      "source": [
        "# https://github.com/C23-PS475/Healcy_ML"
      ]
    },
    {
      "cell_type": "code",
      "execution_count": 9,
      "metadata": {
        "colab": {
          "base_uri": "https://localhost:8080/"
        },
        "id": "dnxOYOqxAEPz",
        "outputId": "ff82ba3d-cffc-4217-e5c6-ae99a5ec494e"
      },
      "outputs": [],
      "source": [
        "# Input Time!\n",
        "input_A1 = int(input('A1: '))\n",
        "input_A2 = int(input('A2: '))\n",
        "input_A3 = int(input('A3: '))\n",
        "input_A4 = int(input('A4: '))\n",
        "input_A5 = int(input('A5: '))\n",
        "input_A6 = int(input('A6: '))\n",
        "input_A7 = int(input('A7: '))\n",
        "input_A8 = int(input('A8: '))\n",
        "input_A9 = int(input('A9: '))\n",
        "input_A10 = int(input('A10: '))\n",
        "input_speech = input_A1 + input_A5 + input_A3\n",
        "input_social = input_A1 + input_A2 + input_A3 + input_A4 + input_A6 + input_A7 + input_A9 + input_A10\n",
        "input_sensory = input_A1 + input_A6 + input_A8 + input_A10\n",
        "input_physical = input_A7 + input_A8 + input_A9\n",
        "input_total = input_speech + input_sensory + input_physical + input_social\n",
        "input_Ages_Years = int(input('Age: '))\n",
        "input_Sex = int(input('Sex: '))\n",
        "input_Jaudience = int(input('Jaudience: '))\n",
        "input_Family_mem_with_ASD = int(input('Family_mem_with_ASD: '))\n",
        "input_Who_completed_the_test = int(input('Who_completed_the_test: '))\n"
      ]
    },
    {
      "cell_type": "code",
      "execution_count": 10,
      "metadata": {
        "id": "4-lJwHW-kIjY"
      },
      "outputs": [],
      "source": [
        "user_input = pd.DataFrame([[input_A1, input_A2, input_A3, input_A4, input_A5,\n",
        "                            input_A6, input_A7, input_A8, input_A9, input_A10,\n",
        "                            input_speech, input_social, input_sensory, input_physical,\n",
        "                            input_total, input_Ages_Years, input_Sex, input_Jaudience,\n",
        "                            input_Family_mem_with_ASD, input_Who_completed_the_test]],\n",
        "                          columns=['A1','A2','A3','A4','A5','A6','A7','A8', 'A9', 'A10',\n",
        "                                   'Speech', 'Sensori', 'Physical', 'Social',\n",
        "                                   'Total', 'Age_Years', 'Sex', 'Jaudience',\n",
        "                                   'Family_mem_with_ASD', 'Who_completed_the_test'])"
      ]
    },
    {
      "cell_type": "code",
      "execution_count": 11,
      "metadata": {
        "colab": {
          "base_uri": "https://localhost:8080/"
        },
        "id": "qTNRrgu6loi2",
        "outputId": "5f57f6ae-cbdd-40e6-f899-940dfea3b9ff"
      },
      "outputs": [
        {
          "data": {
            "text/plain": [
              "array([[ 1,  1,  1,  1,  0,  0,  1,  0,  1,  0,  2,  6,  1,  2, 11,  1,\n",
              "         0,  1,  0,  1]], dtype=int64)"
            ]
          },
          "execution_count": 11,
          "metadata": {},
          "output_type": "execute_result"
        }
      ],
      "source": [
        "user_input_norm = (user_input - X_train.mean()) / X_train.std()\n",
        "user_input_norm = user_input.to_numpy()\n",
        "user_input_norm"
      ]
    },
    {
      "cell_type": "code",
      "execution_count": 12,
      "metadata": {
        "colab": {
          "base_uri": "https://localhost:8080/"
        },
        "id": "EEv0ETtbR7WZ",
        "outputId": "626f1348-8b9f-4acf-ed08-31f23964fba0"
      },
      "outputs": [
        {
          "name": "stdout",
          "output_type": "stream",
          "text": [
            "1/1 [==============================] - 0s 210ms/step\n",
            "[[1.]] Ada kemungkinan ASD\n"
          ]
        }
      ],
      "source": [
        "# Membuat prediksi pada data uji\n",
        "predictions = model.predict(user_input_norm)\n",
        "# Mengevaluasi hasil prediksi (berdasarkan threshold 0.5)\n",
        "predicted_labels = (predictions > 0.5).astype(int)\n",
        "if predicted_labels == 1:\n",
        "  print(f'{predictions} Ada kemungkinan ASD')\n",
        "else:\n",
        "  print(f'{predictions} Tidak ada kemungkinan ASD')"
      ]
    },
    {
      "cell_type": "code",
      "execution_count": 13,
      "metadata": {},
      "outputs": [
        {
          "data": {
            "text/html": [
              "<div>\n",
              "<style scoped>\n",
              "    .dataframe tbody tr th:only-of-type {\n",
              "        vertical-align: middle;\n",
              "    }\n",
              "\n",
              "    .dataframe tbody tr th {\n",
              "        vertical-align: top;\n",
              "    }\n",
              "\n",
              "    .dataframe thead th {\n",
              "        text-align: right;\n",
              "    }\n",
              "</style>\n",
              "<table border=\"1\" class=\"dataframe\">\n",
              "  <thead>\n",
              "    <tr style=\"text-align: right;\">\n",
              "      <th></th>\n",
              "      <th>A1</th>\n",
              "      <th>A2</th>\n",
              "      <th>A3</th>\n",
              "      <th>A4</th>\n",
              "      <th>A5</th>\n",
              "      <th>A6</th>\n",
              "      <th>A7</th>\n",
              "      <th>A8</th>\n",
              "      <th>A9</th>\n",
              "      <th>A10</th>\n",
              "      <th>...</th>\n",
              "      <th>Sensori</th>\n",
              "      <th>Physical</th>\n",
              "      <th>Social</th>\n",
              "      <th>Total</th>\n",
              "      <th>Age_Years</th>\n",
              "      <th>Sex</th>\n",
              "      <th>Jaudience</th>\n",
              "      <th>Family_mem_with_ASD</th>\n",
              "      <th>Who_completed_the_test</th>\n",
              "      <th>ASD_traits</th>\n",
              "    </tr>\n",
              "  </thead>\n",
              "  <tbody>\n",
              "    <tr>\n",
              "      <th>0</th>\n",
              "      <td>1</td>\n",
              "      <td>1</td>\n",
              "      <td>1</td>\n",
              "      <td>1</td>\n",
              "      <td>0</td>\n",
              "      <td>0</td>\n",
              "      <td>1</td>\n",
              "      <td>0</td>\n",
              "      <td>1</td>\n",
              "      <td>0</td>\n",
              "      <td>...</td>\n",
              "      <td>6</td>\n",
              "      <td>1</td>\n",
              "      <td>2</td>\n",
              "      <td>11</td>\n",
              "      <td>1</td>\n",
              "      <td>0</td>\n",
              "      <td>1</td>\n",
              "      <td>0</td>\n",
              "      <td>1</td>\n",
              "      <td>1</td>\n",
              "    </tr>\n",
              "  </tbody>\n",
              "</table>\n",
              "<p>1 rows × 21 columns</p>\n",
              "</div>"
            ],
            "text/plain": [
              "   A1  A2  A3  A4  A5  A6  A7  A8  A9  A10  ...  Sensori  Physical  Social  \\\n",
              "0   1   1   1   1   0   0   1   0   1    0  ...        6         1       2   \n",
              "\n",
              "   Total  Age_Years  Sex  Jaudience  Family_mem_with_ASD  \\\n",
              "0     11          1    0          1                    0   \n",
              "\n",
              "   Who_completed_the_test  ASD_traits  \n",
              "0                       1           1  \n",
              "\n",
              "[1 rows x 21 columns]"
            ]
          },
          "execution_count": 13,
          "metadata": {},
          "output_type": "execute_result"
        }
      ],
      "source": [
        "# Memasukkan prediksi ASD ke dalam frame yang sama \n",
        "# Untuk selanjutnya masuk ke rekomendasi terapi\n",
        "user_input['ASD_traits'] = predicted_labels\n",
        "user_input"
      ]
    }
  ],
  "metadata": {
    "colab": {
      "provenance": []
    },
    "kernelspec": {
      "display_name": "Python 3",
      "name": "python3"
    },
    "language_info": {
      "codemirror_mode": {
        "name": "ipython",
        "version": 3
      },
      "file_extension": ".py",
      "mimetype": "text/x-python",
      "name": "python",
      "nbconvert_exporter": "python",
      "pygments_lexer": "ipython3",
      "version": "3.11.2"
    }
  },
  "nbformat": 4,
  "nbformat_minor": 0
}
