{
  "cells": [
    {
      "cell_type": "code",
      "execution_count": null,
      "metadata": {
        "id": "m1JJJDUteosB"
      },
      "outputs": [],
      "source": [
        "import pandas as pd\n",
        "import numpy as np\n",
        "import tensorflow as tf\n",
        "from sklearn.model_selection import train_test_split\n",
        "from sklearn.preprocessing import StandardScaler\n",
        "from sklearn.metrics import mean_squared_error"
      ]
    },
    {
      "cell_type": "code",
      "execution_count": null,
      "metadata": {
        "colab": {
          "base_uri": "https://localhost:8080/",
          "height": 255
        },
        "id": "hIfUixgLC_do",
        "outputId": "6afcdf2b-456e-48c6-e187-8a2726b92366"
      },
      "outputs": [
        {
          "output_type": "execute_result",
          "data": {
            "text/plain": [
              "   Case_No  A1  A2  A3  A4  A5  A6  A7  A8  A9  ...  Physical  Total  \\\n",
              "0        1   0   0   0   0   0   0   1   1   0  ...         2      3   \n",
              "1        2   1   1   0   0   0   1   1   0   0  ...         1      4   \n",
              "2        3   1   0   0   0   0   0   1   1   0  ...         2      4   \n",
              "3        4   1   1   1   1   1   1   1   1   1  ...         3     10   \n",
              "4        5   1   1   0   1   1   1   1   1   1  ...         3      9   \n",
              "\n",
              "   Age_Years  Sex  Jaundice  Family_mem_with_ASD  Who_completed_the_test  \\\n",
              "0          2    1         1                    0                       0   \n",
              "1          3    0         1                    0                       0   \n",
              "2          3    0         1                    0                       0   \n",
              "3          2    0         0                    0                       0   \n",
              "4          2    1         0                    1                       0   \n",
              "\n",
              "   ASD_traits  Therapy  Percentage  \n",
              "0           0        9   [0:2:2:2]  \n",
              "1           1        5   [1:2:1:4]  \n",
              "2           1        8   [1:3:2:3]  \n",
              "3           1        4   [3:4:3:9]  \n",
              "4           1        8   [2:4:3:8]  \n",
              "\n",
              "[5 rows x 24 columns]"
            ],
            "text/html": [
              "\n",
              "  <div id=\"df-e79c4089-33a3-4b34-b644-e7a9f118c41e\" class=\"colab-df-container\">\n",
              "    <div>\n",
              "<style scoped>\n",
              "    .dataframe tbody tr th:only-of-type {\n",
              "        vertical-align: middle;\n",
              "    }\n",
              "\n",
              "    .dataframe tbody tr th {\n",
              "        vertical-align: top;\n",
              "    }\n",
              "\n",
              "    .dataframe thead th {\n",
              "        text-align: right;\n",
              "    }\n",
              "</style>\n",
              "<table border=\"1\" class=\"dataframe\">\n",
              "  <thead>\n",
              "    <tr style=\"text-align: right;\">\n",
              "      <th></th>\n",
              "      <th>Case_No</th>\n",
              "      <th>A1</th>\n",
              "      <th>A2</th>\n",
              "      <th>A3</th>\n",
              "      <th>A4</th>\n",
              "      <th>A5</th>\n",
              "      <th>A6</th>\n",
              "      <th>A7</th>\n",
              "      <th>A8</th>\n",
              "      <th>A9</th>\n",
              "      <th>...</th>\n",
              "      <th>Physical</th>\n",
              "      <th>Total</th>\n",
              "      <th>Age_Years</th>\n",
              "      <th>Sex</th>\n",
              "      <th>Jaundice</th>\n",
              "      <th>Family_mem_with_ASD</th>\n",
              "      <th>Who_completed_the_test</th>\n",
              "      <th>ASD_traits</th>\n",
              "      <th>Therapy</th>\n",
              "      <th>Percentage</th>\n",
              "    </tr>\n",
              "  </thead>\n",
              "  <tbody>\n",
              "    <tr>\n",
              "      <th>0</th>\n",
              "      <td>1</td>\n",
              "      <td>0</td>\n",
              "      <td>0</td>\n",
              "      <td>0</td>\n",
              "      <td>0</td>\n",
              "      <td>0</td>\n",
              "      <td>0</td>\n",
              "      <td>1</td>\n",
              "      <td>1</td>\n",
              "      <td>0</td>\n",
              "      <td>...</td>\n",
              "      <td>2</td>\n",
              "      <td>3</td>\n",
              "      <td>2</td>\n",
              "      <td>1</td>\n",
              "      <td>1</td>\n",
              "      <td>0</td>\n",
              "      <td>0</td>\n",
              "      <td>0</td>\n",
              "      <td>9</td>\n",
              "      <td>[0:2:2:2]</td>\n",
              "    </tr>\n",
              "    <tr>\n",
              "      <th>1</th>\n",
              "      <td>2</td>\n",
              "      <td>1</td>\n",
              "      <td>1</td>\n",
              "      <td>0</td>\n",
              "      <td>0</td>\n",
              "      <td>0</td>\n",
              "      <td>1</td>\n",
              "      <td>1</td>\n",
              "      <td>0</td>\n",
              "      <td>0</td>\n",
              "      <td>...</td>\n",
              "      <td>1</td>\n",
              "      <td>4</td>\n",
              "      <td>3</td>\n",
              "      <td>0</td>\n",
              "      <td>1</td>\n",
              "      <td>0</td>\n",
              "      <td>0</td>\n",
              "      <td>1</td>\n",
              "      <td>5</td>\n",
              "      <td>[1:2:1:4]</td>\n",
              "    </tr>\n",
              "    <tr>\n",
              "      <th>2</th>\n",
              "      <td>3</td>\n",
              "      <td>1</td>\n",
              "      <td>0</td>\n",
              "      <td>0</td>\n",
              "      <td>0</td>\n",
              "      <td>0</td>\n",
              "      <td>0</td>\n",
              "      <td>1</td>\n",
              "      <td>1</td>\n",
              "      <td>0</td>\n",
              "      <td>...</td>\n",
              "      <td>2</td>\n",
              "      <td>4</td>\n",
              "      <td>3</td>\n",
              "      <td>0</td>\n",
              "      <td>1</td>\n",
              "      <td>0</td>\n",
              "      <td>0</td>\n",
              "      <td>1</td>\n",
              "      <td>8</td>\n",
              "      <td>[1:3:2:3]</td>\n",
              "    </tr>\n",
              "    <tr>\n",
              "      <th>3</th>\n",
              "      <td>4</td>\n",
              "      <td>1</td>\n",
              "      <td>1</td>\n",
              "      <td>1</td>\n",
              "      <td>1</td>\n",
              "      <td>1</td>\n",
              "      <td>1</td>\n",
              "      <td>1</td>\n",
              "      <td>1</td>\n",
              "      <td>1</td>\n",
              "      <td>...</td>\n",
              "      <td>3</td>\n",
              "      <td>10</td>\n",
              "      <td>2</td>\n",
              "      <td>0</td>\n",
              "      <td>0</td>\n",
              "      <td>0</td>\n",
              "      <td>0</td>\n",
              "      <td>1</td>\n",
              "      <td>4</td>\n",
              "      <td>[3:4:3:9]</td>\n",
              "    </tr>\n",
              "    <tr>\n",
              "      <th>4</th>\n",
              "      <td>5</td>\n",
              "      <td>1</td>\n",
              "      <td>1</td>\n",
              "      <td>0</td>\n",
              "      <td>1</td>\n",
              "      <td>1</td>\n",
              "      <td>1</td>\n",
              "      <td>1</td>\n",
              "      <td>1</td>\n",
              "      <td>1</td>\n",
              "      <td>...</td>\n",
              "      <td>3</td>\n",
              "      <td>9</td>\n",
              "      <td>2</td>\n",
              "      <td>1</td>\n",
              "      <td>0</td>\n",
              "      <td>1</td>\n",
              "      <td>0</td>\n",
              "      <td>1</td>\n",
              "      <td>8</td>\n",
              "      <td>[2:4:3:8]</td>\n",
              "    </tr>\n",
              "  </tbody>\n",
              "</table>\n",
              "<p>5 rows × 24 columns</p>\n",
              "</div>\n",
              "    <div class=\"colab-df-buttons\">\n",
              "\n",
              "  <div class=\"colab-df-container\">\n",
              "    <button class=\"colab-df-convert\" onclick=\"convertToInteractive('df-e79c4089-33a3-4b34-b644-e7a9f118c41e')\"\n",
              "            title=\"Convert this dataframe to an interactive table.\"\n",
              "            style=\"display:none;\">\n",
              "\n",
              "  <svg xmlns=\"http://www.w3.org/2000/svg\" height=\"24px\" viewBox=\"0 -960 960 960\">\n",
              "    <path d=\"M120-120v-720h720v720H120Zm60-500h600v-160H180v160Zm220 220h160v-160H400v160Zm0 220h160v-160H400v160ZM180-400h160v-160H180v160Zm440 0h160v-160H620v160ZM180-180h160v-160H180v160Zm440 0h160v-160H620v160Z\"/>\n",
              "  </svg>\n",
              "    </button>\n",
              "\n",
              "  <style>\n",
              "    .colab-df-container {\n",
              "      display:flex;\n",
              "      gap: 12px;\n",
              "    }\n",
              "\n",
              "    .colab-df-convert {\n",
              "      background-color: #E8F0FE;\n",
              "      border: none;\n",
              "      border-radius: 50%;\n",
              "      cursor: pointer;\n",
              "      display: none;\n",
              "      fill: #1967D2;\n",
              "      height: 32px;\n",
              "      padding: 0 0 0 0;\n",
              "      width: 32px;\n",
              "    }\n",
              "\n",
              "    .colab-df-convert:hover {\n",
              "      background-color: #E2EBFA;\n",
              "      box-shadow: 0px 1px 2px rgba(60, 64, 67, 0.3), 0px 1px 3px 1px rgba(60, 64, 67, 0.15);\n",
              "      fill: #174EA6;\n",
              "    }\n",
              "\n",
              "    .colab-df-buttons div {\n",
              "      margin-bottom: 4px;\n",
              "    }\n",
              "\n",
              "    [theme=dark] .colab-df-convert {\n",
              "      background-color: #3B4455;\n",
              "      fill: #D2E3FC;\n",
              "    }\n",
              "\n",
              "    [theme=dark] .colab-df-convert:hover {\n",
              "      background-color: #434B5C;\n",
              "      box-shadow: 0px 1px 3px 1px rgba(0, 0, 0, 0.15);\n",
              "      filter: drop-shadow(0px 1px 2px rgba(0, 0, 0, 0.3));\n",
              "      fill: #FFFFFF;\n",
              "    }\n",
              "  </style>\n",
              "\n",
              "    <script>\n",
              "      const buttonEl =\n",
              "        document.querySelector('#df-e79c4089-33a3-4b34-b644-e7a9f118c41e button.colab-df-convert');\n",
              "      buttonEl.style.display =\n",
              "        google.colab.kernel.accessAllowed ? 'block' : 'none';\n",
              "\n",
              "      async function convertToInteractive(key) {\n",
              "        const element = document.querySelector('#df-e79c4089-33a3-4b34-b644-e7a9f118c41e');\n",
              "        const dataTable =\n",
              "          await google.colab.kernel.invokeFunction('convertToInteractive',\n",
              "                                                    [key], {});\n",
              "        if (!dataTable) return;\n",
              "\n",
              "        const docLinkHtml = 'Like what you see? Visit the ' +\n",
              "          '<a target=\"_blank\" href=https://colab.research.google.com/notebooks/data_table.ipynb>data table notebook</a>'\n",
              "          + ' to learn more about interactive tables.';\n",
              "        element.innerHTML = '';\n",
              "        dataTable['output_type'] = 'display_data';\n",
              "        await google.colab.output.renderOutput(dataTable, element);\n",
              "        const docLink = document.createElement('div');\n",
              "        docLink.innerHTML = docLinkHtml;\n",
              "        element.appendChild(docLink);\n",
              "      }\n",
              "    </script>\n",
              "  </div>\n",
              "\n",
              "\n",
              "<div id=\"df-b9f2be6a-f22a-4903-b8f5-28f98e99ab0f\">\n",
              "  <button class=\"colab-df-quickchart\" onclick=\"quickchart('df-b9f2be6a-f22a-4903-b8f5-28f98e99ab0f')\"\n",
              "            title=\"Suggest charts\"\n",
              "            style=\"display:none;\">\n",
              "\n",
              "<svg xmlns=\"http://www.w3.org/2000/svg\" height=\"24px\"viewBox=\"0 0 24 24\"\n",
              "     width=\"24px\">\n",
              "    <g>\n",
              "        <path d=\"M19 3H5c-1.1 0-2 .9-2 2v14c0 1.1.9 2 2 2h14c1.1 0 2-.9 2-2V5c0-1.1-.9-2-2-2zM9 17H7v-7h2v7zm4 0h-2V7h2v10zm4 0h-2v-4h2v4z\"/>\n",
              "    </g>\n",
              "</svg>\n",
              "  </button>\n",
              "\n",
              "<style>\n",
              "  .colab-df-quickchart {\n",
              "      --bg-color: #E8F0FE;\n",
              "      --fill-color: #1967D2;\n",
              "      --hover-bg-color: #E2EBFA;\n",
              "      --hover-fill-color: #174EA6;\n",
              "      --disabled-fill-color: #AAA;\n",
              "      --disabled-bg-color: #DDD;\n",
              "  }\n",
              "\n",
              "  [theme=dark] .colab-df-quickchart {\n",
              "      --bg-color: #3B4455;\n",
              "      --fill-color: #D2E3FC;\n",
              "      --hover-bg-color: #434B5C;\n",
              "      --hover-fill-color: #FFFFFF;\n",
              "      --disabled-bg-color: #3B4455;\n",
              "      --disabled-fill-color: #666;\n",
              "  }\n",
              "\n",
              "  .colab-df-quickchart {\n",
              "    background-color: var(--bg-color);\n",
              "    border: none;\n",
              "    border-radius: 50%;\n",
              "    cursor: pointer;\n",
              "    display: none;\n",
              "    fill: var(--fill-color);\n",
              "    height: 32px;\n",
              "    padding: 0;\n",
              "    width: 32px;\n",
              "  }\n",
              "\n",
              "  .colab-df-quickchart:hover {\n",
              "    background-color: var(--hover-bg-color);\n",
              "    box-shadow: 0 1px 2px rgba(60, 64, 67, 0.3), 0 1px 3px 1px rgba(60, 64, 67, 0.15);\n",
              "    fill: var(--button-hover-fill-color);\n",
              "  }\n",
              "\n",
              "  .colab-df-quickchart-complete:disabled,\n",
              "  .colab-df-quickchart-complete:disabled:hover {\n",
              "    background-color: var(--disabled-bg-color);\n",
              "    fill: var(--disabled-fill-color);\n",
              "    box-shadow: none;\n",
              "  }\n",
              "\n",
              "  .colab-df-spinner {\n",
              "    border: 2px solid var(--fill-color);\n",
              "    border-color: transparent;\n",
              "    border-bottom-color: var(--fill-color);\n",
              "    animation:\n",
              "      spin 1s steps(1) infinite;\n",
              "  }\n",
              "\n",
              "  @keyframes spin {\n",
              "    0% {\n",
              "      border-color: transparent;\n",
              "      border-bottom-color: var(--fill-color);\n",
              "      border-left-color: var(--fill-color);\n",
              "    }\n",
              "    20% {\n",
              "      border-color: transparent;\n",
              "      border-left-color: var(--fill-color);\n",
              "      border-top-color: var(--fill-color);\n",
              "    }\n",
              "    30% {\n",
              "      border-color: transparent;\n",
              "      border-left-color: var(--fill-color);\n",
              "      border-top-color: var(--fill-color);\n",
              "      border-right-color: var(--fill-color);\n",
              "    }\n",
              "    40% {\n",
              "      border-color: transparent;\n",
              "      border-right-color: var(--fill-color);\n",
              "      border-top-color: var(--fill-color);\n",
              "    }\n",
              "    60% {\n",
              "      border-color: transparent;\n",
              "      border-right-color: var(--fill-color);\n",
              "    }\n",
              "    80% {\n",
              "      border-color: transparent;\n",
              "      border-right-color: var(--fill-color);\n",
              "      border-bottom-color: var(--fill-color);\n",
              "    }\n",
              "    90% {\n",
              "      border-color: transparent;\n",
              "      border-bottom-color: var(--fill-color);\n",
              "    }\n",
              "  }\n",
              "</style>\n",
              "\n",
              "  <script>\n",
              "    async function quickchart(key) {\n",
              "      const quickchartButtonEl =\n",
              "        document.querySelector('#' + key + ' button');\n",
              "      quickchartButtonEl.disabled = true;  // To prevent multiple clicks.\n",
              "      quickchartButtonEl.classList.add('colab-df-spinner');\n",
              "      try {\n",
              "        const charts = await google.colab.kernel.invokeFunction(\n",
              "            'suggestCharts', [key], {});\n",
              "      } catch (error) {\n",
              "        console.error('Error during call to suggestCharts:', error);\n",
              "      }\n",
              "      quickchartButtonEl.classList.remove('colab-df-spinner');\n",
              "      quickchartButtonEl.classList.add('colab-df-quickchart-complete');\n",
              "    }\n",
              "    (() => {\n",
              "      let quickchartButtonEl =\n",
              "        document.querySelector('#df-b9f2be6a-f22a-4903-b8f5-28f98e99ab0f button');\n",
              "      quickchartButtonEl.style.display =\n",
              "        google.colab.kernel.accessAllowed ? 'block' : 'none';\n",
              "    })();\n",
              "  </script>\n",
              "</div>\n",
              "    </div>\n",
              "  </div>\n"
            ]
          },
          "metadata": {},
          "execution_count": 2
        }
      ],
      "source": [
        "url = 'https://github.com/MITA-Team/Machine-Learning/raw/main/Datasets.csv'\n",
        "data = pd.read_csv(url)\n",
        "data.head(5)"
      ]
    },
    {
      "cell_type": "code",
      "execution_count": null,
      "metadata": {
        "id": "dUkITtnwDKQb"
      },
      "outputs": [],
      "source": [
        "X = data.drop(['Therapy', 'ASD_traits', 'Percentage', 'Case_No'], axis=1)\n",
        "Y = data['ASD_traits']"
      ]
    },
    {
      "cell_type": "code",
      "execution_count": null,
      "metadata": {
        "id": "kQLiQ2kEzrtP"
      },
      "outputs": [],
      "source": [
        "# Split data\n",
        "training_size= int(len(data)*0.8)\n",
        "\n",
        "x_train = X[:training_size]\n",
        "x_test = X[training_size:]\n",
        "y_train = Y[:training_size]\n",
        "y_test = Y[training_size:]\n",
        "\n",
        "scaler = StandardScaler()\n",
        "x_train = scaler.fit_transform(x_train)\n",
        "x_test = scaler.transform(x_test)"
      ]
    },
    {
      "cell_type": "code",
      "execution_count": null,
      "metadata": {
        "colab": {
          "base_uri": "https://localhost:8080/"
        },
        "id": "V98VUmNxTLW3",
        "outputId": "61cdb713-f1fd-4d51-8644-07254313b9f6"
      },
      "outputs": [
        {
          "output_type": "stream",
          "name": "stdout",
          "text": [
            "Epoch 1/10\n",
            "57/57 [==============================] - 2s 10ms/step - loss: 0.2219 - accuracy: 0.9462 - val_loss: 0.0881 - val_accuracy: 0.9823\n",
            "Epoch 2/10\n",
            "57/57 [==============================] - 0s 5ms/step - loss: 0.0607 - accuracy: 0.9900 - val_loss: 0.0641 - val_accuracy: 0.9956\n",
            "Epoch 3/10\n",
            "57/57 [==============================] - 0s 4ms/step - loss: 0.0369 - accuracy: 0.9983 - val_loss: 0.0565 - val_accuracy: 0.9956\n",
            "Epoch 4/10\n",
            "57/57 [==============================] - 0s 5ms/step - loss: 0.0283 - accuracy: 0.9983 - val_loss: 0.0516 - val_accuracy: 0.9956\n",
            "Epoch 5/10\n",
            "57/57 [==============================] - 0s 5ms/step - loss: 0.0234 - accuracy: 0.9983 - val_loss: 0.0466 - val_accuracy: 0.9956\n",
            "Epoch 6/10\n",
            "57/57 [==============================] - 0s 5ms/step - loss: 0.0195 - accuracy: 0.9983 - val_loss: 0.0423 - val_accuracy: 0.9956\n",
            "Epoch 7/10\n",
            "57/57 [==============================] - 0s 5ms/step - loss: 0.0167 - accuracy: 0.9983 - val_loss: 0.0378 - val_accuracy: 0.9956\n",
            "Epoch 8/10\n",
            "57/57 [==============================] - 0s 6ms/step - loss: 0.0143 - accuracy: 0.9983 - val_loss: 0.0367 - val_accuracy: 0.9956\n",
            "Epoch 9/10\n",
            "57/57 [==============================] - 0s 6ms/step - loss: 0.0132 - accuracy: 0.9983 - val_loss: 0.0288 - val_accuracy: 0.9956\n",
            "Epoch 10/10\n",
            "57/57 [==============================] - 0s 5ms/step - loss: 0.0119 - accuracy: 0.9983 - val_loss: 0.0285 - val_accuracy: 0.9956\n"
          ]
        }
      ],
      "source": [
        "model = tf.keras.models.Sequential([\n",
        "    tf.keras.layers.Dense(128, activation='relu', input_shape=(x_train.shape[1],)),\n",
        "    tf.keras.layers.Dense(64, activation='relu'),\n",
        "    tf.keras.layers.Dense(1, activation='sigmoid')\n",
        "])\n",
        "model.compile(optimizer='adam', loss='binary_crossentropy', metrics=['accuracy'])\n",
        "history=model.fit(x_train, y_train, epochs=10,validation_data=(x_test, y_test))"
      ]
    },
    {
      "cell_type": "code",
      "source": [
        "import matplotlib.pyplot as plt\n",
        "\n",
        "plt.plot(history.history['accuracy'])\n",
        "plt.plot(history.history['val_accuracy'])\n",
        "plt.title('Model Accuracy')\n",
        "plt.ylabel(\"Accuracy\")\n",
        "plt.xlabel('Epoch')\n",
        "plt.legend(['Train', 'validation'], loc='upper left')\n",
        "plt.show()"
      ],
      "metadata": {
        "colab": {
          "base_uri": "https://localhost:8080/",
          "height": 472
        },
        "id": "7FGB8ZZB79jI",
        "outputId": "34d854fc-dd32-42d6-e03d-5efedcf92bb2"
      },
      "execution_count": null,
      "outputs": [
        {
          "output_type": "display_data",
          "data": {
            "text/plain": [
              "<Figure size 640x480 with 1 Axes>"
            ],
            "image/png": "[encoded data removed]"
          },
          "metadata": {}
        }
      ]
    },
    {
      "cell_type": "code",
      "source": [
        "plt.plot(history.history['loss'])\n",
        "plt.plot(history.history['val_loss'])\n",
        "plt.title('Model Loss')\n",
        "plt.ylabel(\"Loss\")\n",
        "plt.xlabel('Epoch')\n",
        "plt.legend(['Train', 'validation'], loc='upper left')\n",
        "plt.show()"
      ],
      "metadata": {
        "colab": {
          "base_uri": "https://localhost:8080/",
          "height": 472
        },
        "id": "mjEf1Ch69e1f",
        "outputId": "bae678ee-1e82-4825-f53d-9b6a85886a1d"
      },
      "execution_count": null,
      "outputs": [
        {
          "output_type": "display_data",
          "data": {
            "text/plain": [
              "<Figure size 640x480 with 1 Axes>"
            ],
            "image/png": "[encoded data removed]"
          },
          "metadata": {}
        }
      ]
    },
    {
      "cell_type": "code",
      "source": [
        "# https://github.com/C23-PS475/Healcy_ML"
      ],
      "metadata": {
        "id": "9HCZUVLG9433"
      },
      "execution_count": null,
      "outputs": []
    },
    {
      "cell_type": "code",
      "source": [
        "# Input Time!\n",
        "input_A1 = int(input('A1: '))\n",
        "input_A2 = int(input('A2: '))\n",
        "input_A3 = int(input('A3: '))\n",
        "input_A4 = int(input('A4: '))\n",
        "input_A5 = int(input('A5: '))\n",
        "input_A6 = int(input('A6: '))\n",
        "input_A7 = int(input('A7: '))\n",
        "input_A8 = int(input('A8: '))\n",
        "input_A9 = int(input('A9: '))\n",
        "input_A10 = int(input('A10: '))\n",
        "input_speech = input_A1 + input_A5 + input_A3\n",
        "input_social = input_A1 + input_A2 + input_A3 + input_A4 + input_A6 + input_A7 + input_A9 + input_A10\n",
        "input_sensory = input_A1 + input_A6 + input_A8 + input_A10\n",
        "input_physical = input_A7 + input_A8 + input_A9\n",
        "input_total = input_speech + input_sensory + input_physical + input_social\n",
        "input_Ages_Years = int(input('Age: '))\n",
        "input_Sex = int(input('Sex: '))\n",
        "input_Jaudience = int(input('Jaudience: '))\n",
        "input_Family_mem_with_ASD = int(input('Family_mem_with_ASD: '))\n",
        "input_Who_completed_the_test = int(input('Who_completed_the_test: '))\n"
      ],
      "metadata": {
        "id": "dnxOYOqxAEPz",
        "colab": {
          "base_uri": "https://localhost:8080/"
        },
        "outputId": "ff82ba3d-cffc-4217-e5c6-ae99a5ec494e"
      },
      "execution_count": null,
      "outputs": [
        {
          "name": "stdout",
          "output_type": "stream",
          "text": [
            "A1: 1\n",
            "A2: 1\n",
            "A3: 0\n",
            "A4: 0\n",
            "A5: 0\n",
            "A6: 0\n",
            "A7: 1\n",
            "A8: 1\n",
            "A9: 1\n",
            "A10: 1\n",
            "Age: 3\n",
            "Sex: 0\n",
            "Jaudience: 1\n",
            "Family_mem_with_ASD: 0\n",
            "Who_completed_the_test: 3\n"
          ]
        }
      ]
    },
    {
      "cell_type": "code",
      "source": [
        "user_input = pd.DataFrame([[input_A1, input_A2, input_A3, input_A4, input_A5,\n",
        "                            input_A6, input_A7, input_A8, input_A9, input_A10,\n",
        "                            input_speech, input_social, input_sensory, input_physical,\n",
        "                            input_total, input_Ages_Years, input_Sex, input_Jaudience,\n",
        "                            input_Family_mem_with_ASD, input_Who_completed_the_test]],\n",
        "                          columns=['A1','A2','A3','A4','A5','A6','A7','A8', 'A9', 'A10',\n",
        "                                   'Speech', 'Sensori', 'Physical', 'Social',\n",
        "                                   'Total', 'Age_Years', 'Sex', 'Jaudience',\n",
        "                                   'Family_mem_with_ASD', 'Who_completed_the_test'])"
      ],
      "metadata": {
        "id": "4-lJwHW-kIjY"
      },
      "execution_count": null,
      "outputs": []
    },
    {
      "cell_type": "code",
      "source": [
        "user_input_norm = (user_input - x_train.mean()) / x_train.std()\n",
        "user_input_norm = user_input.to_numpy()\n",
        "user_input_norm"
      ],
      "metadata": {
        "colab": {
          "base_uri": "https://localhost:8080/"
        },
        "id": "qTNRrgu6loi2",
        "outputId": "5f57f6ae-cbdd-40e6-f899-940dfea3b9ff"
      },
      "execution_count": null,
      "outputs": [
        {
          "output_type": "execute_result",
          "data": {
            "text/plain": [
              "array([[ 1,  1,  0,  0,  0,  0,  1,  1,  1,  1,  1,  5,  3,  3, 12,  3,\n",
              "         0,  1,  0,  3]])"
            ]
          },
          "metadata": {},
          "execution_count": 11
        }
      ]
    },
    {
      "cell_type": "code",
      "source": [
        "# Membuat prediksi pada data uji\n",
        "predictions = (model.predict(user_input_norm)>0.5).astype(int)\n",
        "if predictions == 1:\n",
        "  print('Ada kemungkinan ASD')\n",
        "else:\n",
        "  print('Tidak ada kemungkinan ASD')"
      ],
      "metadata": {
        "colab": {
          "base_uri": "https://localhost:8080/"
        },
        "id": "EEv0ETtbR7WZ",
        "outputId": "626f1348-8b9f-4acf-ed08-31f23964fba0"
      },
      "execution_count": null,
      "outputs": [
        {
          "output_type": "stream",
          "name": "stdout",
          "text": [
            "1/1 [==============================] - 0s 37ms/step\n",
            "Ada kemungkinan ASD\n"
          ]
        }
      ]
    },
    {
      "cell_type": "code",
      "source": [
        "X_test_with_predictions = X_test.copy()\n",
        "X_test_with_predictions['Predicted_ASD'] = y_pred\n",
        "\n",
        "# Tambahkan kolom keterangan terprediksi\n",
        "X_test_with_predictions['Prediction_Description'] = X_test_with_predictions['Predicted_ASD'].apply(lambda x: 'Autis' if x == 1 else 'Tidak Autis')\n",
        "\n",
        "# Tampilkan DataFrame hasil prediksi\n",
        "print(X_test_with_predictions[['Predicted_ASD', 'Prediction_Description']])"
      ],
      "metadata": {
        "colab": {
          "base_uri": "https://localhost:8080/",
          "height": 263
        },
        "id": "J9pdSvKLhEpo",
        "outputId": "7ed4af0d-db75-4ffc-e44f-90f08804a92f"
      },
      "execution_count": null,
      "outputs": [
        {
          "output_type": "error",
          "ename": "IndexError",
          "evalue": "ignored",
          "traceback": [
            "\u001b[0;31m---------------------------------------------------------------------------\u001b[0m",
            "\u001b[0;31mIndexError\u001b[0m                                Traceback (most recent call last)",
            "\u001b[0;32m<ipython-input-26-4a4608732e2b>\u001b[0m in \u001b[0;36m<cell line: 2>\u001b[0;34m()\u001b[0m\n\u001b[1;32m      1\u001b[0m \u001b[0mX_test_with_predictions\u001b[0m \u001b[0;34m=\u001b[0m \u001b[0mX_test\u001b[0m\u001b[0;34m.\u001b[0m\u001b[0mcopy\u001b[0m\u001b[0;34m(\u001b[0m\u001b[0;34m)\u001b[0m\u001b[0;34m\u001b[0m\u001b[0;34m\u001b[0m\u001b[0m\n\u001b[0;32m----> 2\u001b[0;31m \u001b[0mX_test_with_predictions\u001b[0m\u001b[0;34m[\u001b[0m\u001b[0;34m'Predicted_ASD'\u001b[0m\u001b[0;34m]\u001b[0m \u001b[0;34m=\u001b[0m \u001b[0my_pred\u001b[0m\u001b[0;34m\u001b[0m\u001b[0;34m\u001b[0m\u001b[0m\n\u001b[0m\u001b[1;32m      3\u001b[0m \u001b[0;34m\u001b[0m\u001b[0m\n\u001b[1;32m      4\u001b[0m \u001b[0;31m# Tambahkan kolom keterangan terprediksi\u001b[0m\u001b[0;34m\u001b[0m\u001b[0;34m\u001b[0m\u001b[0m\n\u001b[1;32m      5\u001b[0m \u001b[0mX_test_with_predictions\u001b[0m\u001b[0;34m[\u001b[0m\u001b[0;34m'Prediction_Description'\u001b[0m\u001b[0;34m]\u001b[0m \u001b[0;34m=\u001b[0m \u001b[0mX_test_with_predictions\u001b[0m\u001b[0;34m[\u001b[0m\u001b[0;34m'Predicted_ASD'\u001b[0m\u001b[0;34m]\u001b[0m\u001b[0;34m.\u001b[0m\u001b[0mapply\u001b[0m\u001b[0;34m(\u001b[0m\u001b[0;32mlambda\u001b[0m \u001b[0mx\u001b[0m\u001b[0;34m:\u001b[0m \u001b[0;34m'Autis'\u001b[0m \u001b[0;32mif\u001b[0m \u001b[0mx\u001b[0m \u001b[0;34m==\u001b[0m \u001b[0;36m1\u001b[0m \u001b[0;32melse\u001b[0m \u001b[0;34m'Tidak Autis'\u001b[0m\u001b[0;34m)\u001b[0m\u001b[0;34m\u001b[0m\u001b[0;34m\u001b[0m\u001b[0m\n",
            "\u001b[0;31mIndexError\u001b[0m: only integers, slices (`:`), ellipsis (`...`), numpy.newaxis (`None`) and integer or boolean arrays are valid indices"
          ]
        }
      ]
    },
    {
      "cell_type": "code",
      "source": [
        "import matplotlib.pyplot as plt\n",
        "\n",
        "def percentage_delay(A):\n",
        "    categories = ['speech', 'social', 'sensory', 'motorik']\n",
        "    a_cat_list = [\n",
        "        [1, 1, 1, 0],\n",
        "        [0, 1, 0, 0],\n",
        "        [1, 1, 0, 0],\n",
        "        [0, 1, 0, 0],\n",
        "        [0, 1, 1, 0],\n",
        "        [0, 1, 1, 0],\n",
        "        [0, 1, 0, 1],\n",
        "        [0, 0, 0, 1],\n",
        "        [0, 1, 0, 0],\n",
        "        [0, 1, 1, 0]\n",
        "    ]\n",
        "\n",
        "    total_cases = len(A)\n",
        "    category_sums = {category: 0 for category in categories}\n",
        "\n",
        "    for i in range(total_cases):\n",
        "        current_a = A[i]\n",
        "\n",
        "        if current_a == 1:\n",
        "            current_a_cat = a_cat_list[i]\n",
        "            for j in range(len(categories)):\n",
        "                category_sums[categories[j]] += current_a_cat[j]\n",
        "\n",
        "    # Calculate the total sum across all categories\n",
        "    total_sum = sum(category_sums.values())\n",
        "\n",
        "    # Calculate the percentage for each category\n",
        "    category_percentages = {category: (count / total_sum) * 100 for category, count in category_sums.items()}\n",
        "\n",
        "    # Create a pie chart\n",
        "    labels = list(category_percentages.keys())\n",
        "    sizes = list(category_percentages.values())\n",
        "\n",
        "    plt.pie(sizes, labels=labels, autopct='%1.1f%%', startangle=90)\n",
        "    plt.axis('equal')  # Equal aspect ratio ensures that the pie chart is drawn as a circle.\n",
        "\n",
        "    plt.title('Percentage Delay by Category')\n",
        "    plt.show()\n",
        "\n",
        "# Sample input for A\n",
        "A = [1, 1, 1, 0, 0, 1, 0, 1, 0, 0]\n",
        "\n",
        "# Call the function with A\n",
        "percentage_delay(A)\n"
      ],
      "metadata": {
        "colab": {
          "base_uri": "https://localhost:8080/",
          "height": 428
        },
        "id": "fc7zovXRXOTi",
        "outputId": "cdd36ac8-0da1-4a39-9aec-0f0464e2db2e"
      },
      "execution_count": 8,
      "outputs": [
        {
          "output_type": "display_data",
          "data": {
            "text/plain": [
              "<Figure size 640x480 with 1 Axes>"
            ],
            "image/png": "[encoded data removed]"
          },
          "metadata": {}
        }
      ]
    }
  ],
  "metadata": {
    "colab": {
      "provenance": []
    },
    "kernelspec": {
      "display_name": "Python 3",
      "name": "python3"
    },
    "language_info": {
      "name": "python"
    }
  },
  "nbformat": 4,
  "nbformat_minor": 0
}