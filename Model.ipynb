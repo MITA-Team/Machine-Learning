{
  "cells": [
    {
      "cell_type": "markdown",
      "metadata": {
        "id": "J6Z17h4pO9VT"
      },
      "source": [
        "# Model Capstone Product Based CH2-PS081\n",
        "\n",
        "<table class=\"tfo-notebook-buttons\" align=\"left\">\n",
        "  <td>\n",
        "    <a target=\"_blank\" href=\"https://colab.research.google.com/drive/15ST_2Nmqlw3cw8U8Q_wHqPyaKd1YXTzq#scrollTo=J6Z17h4pO9VT\"><img src=\"https://www.tensorflow.org/images/colab_logo_32px.png\" />Run in Google Colab</a>\n",
        "  </td>\n",
        "  <td>\n",
        "    <a target=\"_blank\" href=\"https://github.com/tensorflow/recommenders/blob/main/docs/examples/quickstart.ipynb\"><img src=\"https://www.tensorflow.org/images/GitHub-Mark-32px.png\" />View source on GitHub</a>\n",
        "  </td>\n",
        "</table>"
      ]
    },
    {
      "cell_type": "code",
      "execution_count": 1,
      "metadata": {
        "id": "m1JJJDUteosB"
      },
      "outputs": [],
      "source": [
        "import pandas as pd\n",
        "import numpy as np\n",
        "import tensorflow as tf\n",
        "import matplotlib.pyplot as plt\n",
        "import uuid\n",
        "from sklearn.preprocessing import StandardScaler, LabelEncoder"
      ]
    },
    {
      "cell_type": "code",
      "execution_count": 2,
      "metadata": {
        "colab": {
          "base_uri": "https://localhost:8080/",
          "height": 255
        },
        "id": "hIfUixgLC_do",
        "outputId": "225dddbc-e11b-4ad5-b30e-814773e93b6f"
      },
      "outputs": [
        {
          "data": {
            "text/html": [
              "<div>\n",
              "<style scoped>\n",
              "    .dataframe tbody tr th:only-of-type {\n",
              "        vertical-align: middle;\n",
              "    }\n",
              "\n",
              "    .dataframe tbody tr th {\n",
              "        vertical-align: top;\n",
              "    }\n",
              "\n",
              "    .dataframe thead th {\n",
              "        text-align: right;\n",
              "    }\n",
              "</style>\n",
              "<table border=\"1\" class=\"dataframe\">\n",
              "  <thead>\n",
              "    <tr style=\"text-align: right;\">\n",
              "      <th></th>\n",
              "      <th>Case_No</th>\n",
              "      <th>A1</th>\n",
              "      <th>A2</th>\n",
              "      <th>A3</th>\n",
              "      <th>A4</th>\n",
              "      <th>A5</th>\n",
              "      <th>A6</th>\n",
              "      <th>A7</th>\n",
              "      <th>A8</th>\n",
              "      <th>A9</th>\n",
              "      <th>...</th>\n",
              "      <th>Physical</th>\n",
              "      <th>Total</th>\n",
              "      <th>Age_Years</th>\n",
              "      <th>Sex</th>\n",
              "      <th>Jaundice</th>\n",
              "      <th>Family_mem_with_ASD</th>\n",
              "      <th>Who_completed_the_test</th>\n",
              "      <th>ASD_traits</th>\n",
              "      <th>Therapy</th>\n",
              "      <th>Percentage</th>\n",
              "    </tr>\n",
              "  </thead>\n",
              "  <tbody>\n",
              "    <tr>\n",
              "      <th>0</th>\n",
              "      <td>1</td>\n",
              "      <td>0</td>\n",
              "      <td>0</td>\n",
              "      <td>0</td>\n",
              "      <td>0</td>\n",
              "      <td>0</td>\n",
              "      <td>0</td>\n",
              "      <td>1</td>\n",
              "      <td>1</td>\n",
              "      <td>0</td>\n",
              "      <td>...</td>\n",
              "      <td>2</td>\n",
              "      <td>3</td>\n",
              "      <td>2</td>\n",
              "      <td>1</td>\n",
              "      <td>1</td>\n",
              "      <td>0</td>\n",
              "      <td>0</td>\n",
              "      <td>0</td>\n",
              "      <td>9</td>\n",
              "      <td>[0:2:2:2]</td>\n",
              "    </tr>\n",
              "    <tr>\n",
              "      <th>1</th>\n",
              "      <td>2</td>\n",
              "      <td>1</td>\n",
              "      <td>1</td>\n",
              "      <td>0</td>\n",
              "      <td>0</td>\n",
              "      <td>0</td>\n",
              "      <td>1</td>\n",
              "      <td>1</td>\n",
              "      <td>0</td>\n",
              "      <td>0</td>\n",
              "      <td>...</td>\n",
              "      <td>1</td>\n",
              "      <td>4</td>\n",
              "      <td>3</td>\n",
              "      <td>0</td>\n",
              "      <td>1</td>\n",
              "      <td>0</td>\n",
              "      <td>0</td>\n",
              "      <td>1</td>\n",
              "      <td>5</td>\n",
              "      <td>[1:2:1:4]</td>\n",
              "    </tr>\n",
              "    <tr>\n",
              "      <th>2</th>\n",
              "      <td>3</td>\n",
              "      <td>1</td>\n",
              "      <td>0</td>\n",
              "      <td>0</td>\n",
              "      <td>0</td>\n",
              "      <td>0</td>\n",
              "      <td>0</td>\n",
              "      <td>1</td>\n",
              "      <td>1</td>\n",
              "      <td>0</td>\n",
              "      <td>...</td>\n",
              "      <td>2</td>\n",
              "      <td>4</td>\n",
              "      <td>3</td>\n",
              "      <td>0</td>\n",
              "      <td>1</td>\n",
              "      <td>0</td>\n",
              "      <td>0</td>\n",
              "      <td>1</td>\n",
              "      <td>8</td>\n",
              "      <td>[1:3:2:3]</td>\n",
              "    </tr>\n",
              "    <tr>\n",
              "      <th>3</th>\n",
              "      <td>4</td>\n",
              "      <td>1</td>\n",
              "      <td>1</td>\n",
              "      <td>1</td>\n",
              "      <td>1</td>\n",
              "      <td>1</td>\n",
              "      <td>1</td>\n",
              "      <td>1</td>\n",
              "      <td>1</td>\n",
              "      <td>1</td>\n",
              "      <td>...</td>\n",
              "      <td>3</td>\n",
              "      <td>10</td>\n",
              "      <td>2</td>\n",
              "      <td>0</td>\n",
              "      <td>0</td>\n",
              "      <td>0</td>\n",
              "      <td>0</td>\n",
              "      <td>1</td>\n",
              "      <td>4</td>\n",
              "      <td>[3:4:3:9]</td>\n",
              "    </tr>\n",
              "    <tr>\n",
              "      <th>4</th>\n",
              "      <td>5</td>\n",
              "      <td>1</td>\n",
              "      <td>1</td>\n",
              "      <td>0</td>\n",
              "      <td>1</td>\n",
              "      <td>1</td>\n",
              "      <td>1</td>\n",
              "      <td>1</td>\n",
              "      <td>1</td>\n",
              "      <td>1</td>\n",
              "      <td>...</td>\n",
              "      <td>3</td>\n",
              "      <td>9</td>\n",
              "      <td>2</td>\n",
              "      <td>1</td>\n",
              "      <td>0</td>\n",
              "      <td>1</td>\n",
              "      <td>0</td>\n",
              "      <td>1</td>\n",
              "      <td>8</td>\n",
              "      <td>[2:4:3:8]</td>\n",
              "    </tr>\n",
              "  </tbody>\n",
              "</table>\n",
              "<p>5 rows × 24 columns</p>\n",
              "</div>"
            ],
            "text/plain": [
              "   Case_No  A1  A2  A3  A4  A5  A6  A7  A8  A9  ...  Physical  Total  \\\n",
              "0        1   0   0   0   0   0   0   1   1   0  ...         2      3   \n",
              "1        2   1   1   0   0   0   1   1   0   0  ...         1      4   \n",
              "2        3   1   0   0   0   0   0   1   1   0  ...         2      4   \n",
              "3        4   1   1   1   1   1   1   1   1   1  ...         3     10   \n",
              "4        5   1   1   0   1   1   1   1   1   1  ...         3      9   \n",
              "\n",
              "   Age_Years  Sex  Jaundice  Family_mem_with_ASD  Who_completed_the_test  \\\n",
              "0          2    1         1                    0                       0   \n",
              "1          3    0         1                    0                       0   \n",
              "2          3    0         1                    0                       0   \n",
              "3          2    0         0                    0                       0   \n",
              "4          2    1         0                    1                       0   \n",
              "\n",
              "   ASD_traits  Therapy  Percentage  \n",
              "0           0        9   [0:2:2:2]  \n",
              "1           1        5   [1:2:1:4]  \n",
              "2           1        8   [1:3:2:3]  \n",
              "3           1        4   [3:4:3:9]  \n",
              "4           1        8   [2:4:3:8]  \n",
              "\n",
              "[5 rows x 24 columns]"
            ]
          },
          "execution_count": 2,
          "metadata": {},
          "output_type": "execute_result"
        }
      ],
      "source": [
        "url = 'https://github.com/MITA-Team/Machine-Learning/raw/main/Datasets.csv'\n",
        "data = pd.read_csv(url)\n",
        "data.head(5)"
      ]
    },
    {
      "cell_type": "markdown",
      "metadata": {
        "id": "MwZc9_g52iBF"
      },
      "source": [
        "# Model Klasifikasi ASD"
      ]
    },
    {
      "cell_type": "code",
      "execution_count": 3,
      "metadata": {
        "id": "dUkITtnwDKQb"
      },
      "outputs": [],
      "source": [
        "# Menginisialisasi data label dan input\n",
        "X = data.drop(['Therapy', 'ASD_traits', 'Percentage', 'Case_No'], axis=1)\n",
        "Y = data['ASD_traits']"
      ]
    },
    {
      "cell_type": "code",
      "execution_count": 4,
      "metadata": {
        "id": "kQLiQ2kEzrtP"
      },
      "outputs": [],
      "source": [
        "# Split data dengan Training data 90% dan validation data 10%\n",
        "training_size= int(len(data)*0.9)\n",
        "\n",
        "X_train = X[:training_size]\n",
        "X_test = X[training_size:]\n",
        "Y_train = Y[:training_size]\n",
        "Y_test = Y[training_size:]"
      ]
    },
    {
      "cell_type": "code",
      "execution_count": 5,
      "metadata": {
        "colab": {
          "base_uri": "https://localhost:8080/"
        },
        "id": "V98VUmNxTLW3",
        "outputId": "56342871-9e0d-42c0-f0a8-7c4da77c567d"
      },
      "outputs": [
        {
          "name": "stdout",
          "output_type": "stream",
          "text": [
            "Model: \"sequential\"\n",
            "_________________________________________________________________\n",
            " Layer (type)                Output Shape              Param #   \n",
            "=================================================================\n",
            " dense (Dense)               (None, 512)               10752     \n",
            "                                                                 \n",
            " dense_1 (Dense)             (None, 128)               65664     \n",
            "                                                                 \n",
            " dense_2 (Dense)             (None, 128)               16512     \n",
            "                                                                 \n",
            " dense_3 (Dense)             (None, 64)                8256      \n",
            "                                                                 \n",
            " dropout (Dropout)           (None, 64)                0         \n",
            "                                                                 \n",
            " dense_4 (Dense)             (None, 1)                 65        \n",
            "                                                                 \n",
            "=================================================================\n",
            "Total params: 101249 (395.50 KB)\n",
            "Trainable params: 101249 (395.50 KB)\n",
            "Non-trainable params: 0 (0.00 Byte)\n",
            "_________________________________________________________________\n"
          ]
        }
      ],
      "source": [
        "# Model Klasifikasi ASD\n",
        "model1 = tf.keras.models.Sequential([\n",
        "    tf.keras.layers.Dense(512, activation='relu', input_shape=(X_train.shape[1],)),\n",
        "    tf.keras.layers.Dense(128, activation='relu'),\n",
        "    tf.keras.layers.Dense(128, activation='relu'),\n",
        "    tf.keras.layers.Dense(64, activation='relu'),\n",
        "    tf.keras.layers.Dropout(0.2),\n",
        "    tf.keras.layers.Dense(1, activation='linear')\n",
        "])\n",
        "model1.summary()"
      ]
    },
    {
      "cell_type": "code",
      "execution_count": 6,
      "metadata": {
        "colab": {
          "base_uri": "https://localhost:8080/"
        },
        "id": "f1bbQaDyOw6u",
        "outputId": "39bf38d8-70cf-444d-b21c-30a9f76ba594"
      },
      "outputs": [
        {
          "name": "stdout",
          "output_type": "stream",
          "text": [
            "Epoch 1/50\n",
            "41/41 [==============================] - 5s 19ms/step - loss: 0.1219 - val_loss: 0.0567\n",
            "Epoch 2/50\n",
            "41/41 [==============================] - 0s 6ms/step - loss: 0.0534 - val_loss: 0.0339\n",
            "Epoch 3/50\n",
            "41/41 [==============================] - 0s 6ms/step - loss: 0.0372 - val_loss: 0.0358\n",
            "Epoch 4/50\n",
            "41/41 [==============================] - 0s 7ms/step - loss: 0.0316 - val_loss: 0.0218\n",
            "Epoch 5/50\n",
            "41/41 [==============================] - 0s 6ms/step - loss: 0.0231 - val_loss: 0.0158\n",
            "Epoch 6/50\n",
            "41/41 [==============================] - 0s 7ms/step - loss: 0.0224 - val_loss: 0.0230\n",
            "Epoch 7/50\n",
            "41/41 [==============================] - 0s 7ms/step - loss: 0.0177 - val_loss: 0.0131\n",
            "Epoch 8/50\n",
            "41/41 [==============================] - 0s 6ms/step - loss: 0.0145 - val_loss: 0.0100\n",
            "Epoch 9/50\n",
            "41/41 [==============================] - 0s 6ms/step - loss: 0.0119 - val_loss: 0.0080\n",
            "Epoch 10/50\n",
            "41/41 [==============================] - 0s 7ms/step - loss: 0.0103 - val_loss: 0.0104\n",
            "Epoch 11/50\n",
            "41/41 [==============================] - 0s 8ms/step - loss: 0.0097 - val_loss: 0.0104\n",
            "Epoch 12/50\n",
            "41/41 [==============================] - 0s 6ms/step - loss: 0.0111 - val_loss: 0.0102\n",
            "Epoch 13/50\n",
            "41/41 [==============================] - 0s 7ms/step - loss: 0.0096 - val_loss: 0.0085\n",
            "Epoch 14/50\n",
            "41/41 [==============================] - 0s 7ms/step - loss: 0.0092 - val_loss: 0.0064\n",
            "Epoch 15/50\n",
            "41/41 [==============================] - 0s 9ms/step - loss: 0.0094 - val_loss: 0.0072\n",
            "Epoch 16/50\n",
            "41/41 [==============================] - 0s 7ms/step - loss: 0.0095 - val_loss: 0.0068\n",
            "Epoch 17/50\n",
            "41/41 [==============================] - 0s 7ms/step - loss: 0.0078 - val_loss: 0.0057\n",
            "Epoch 18/50\n",
            "41/41 [==============================] - 0s 7ms/step - loss: 0.0081 - val_loss: 0.0120\n",
            "Epoch 19/50\n",
            "41/41 [==============================] - 0s 7ms/step - loss: 0.0086 - val_loss: 0.0069\n",
            "Epoch 20/50\n",
            "41/41 [==============================] - 0s 7ms/step - loss: 0.0077 - val_loss: 0.0077\n",
            "Epoch 21/50\n",
            "41/41 [==============================] - 0s 7ms/step - loss: 0.0080 - val_loss: 0.0080\n",
            "Epoch 22/50\n",
            "41/41 [==============================] - 0s 7ms/step - loss: 0.0073 - val_loss: 0.0088\n",
            "Epoch 23/50\n",
            "41/41 [==============================] - 0s 7ms/step - loss: 0.0079 - val_loss: 0.0083\n",
            "Epoch 24/50\n",
            "41/41 [==============================] - 0s 6ms/step - loss: 0.0072 - val_loss: 0.0107\n",
            "Epoch 25/50\n",
            "41/41 [==============================] - 0s 8ms/step - loss: 0.0075 - val_loss: 0.0096\n",
            "Epoch 26/50\n",
            "41/41 [==============================] - 0s 7ms/step - loss: 0.0064 - val_loss: 0.0076\n",
            "Epoch 27/50\n",
            "41/41 [==============================] - 0s 7ms/step - loss: 0.0069 - val_loss: 0.0060\n",
            "Epoch 28/50\n",
            "41/41 [==============================] - 0s 8ms/step - loss: 0.0067 - val_loss: 0.0086\n",
            "Epoch 29/50\n",
            "41/41 [==============================] - 0s 7ms/step - loss: 0.0068 - val_loss: 0.0061\n",
            "Epoch 30/50\n",
            "41/41 [==============================] - 0s 7ms/step - loss: 0.0069 - val_loss: 0.0097\n",
            "Epoch 31/50\n",
            "41/41 [==============================] - 0s 7ms/step - loss: 0.0065 - val_loss: 0.0039\n",
            "Epoch 32/50\n",
            "41/41 [==============================] - 0s 10ms/step - loss: 0.0068 - val_loss: 0.0093\n",
            "Epoch 33/50\n",
            "41/41 [==============================] - 0s 10ms/step - loss: 0.0067 - val_loss: 0.0084\n",
            "Epoch 34/50\n",
            "41/41 [==============================] - 0s 11ms/step - loss: 0.0062 - val_loss: 0.0069\n",
            "Epoch 35/50\n",
            "41/41 [==============================] - 0s 9ms/step - loss: 0.0062 - val_loss: 0.0082\n",
            "Epoch 36/50\n",
            "41/41 [==============================] - 0s 10ms/step - loss: 0.0066 - val_loss: 0.0080\n",
            "Epoch 37/50\n",
            "41/41 [==============================] - 0s 9ms/step - loss: 0.0068 - val_loss: 0.0096\n",
            "Epoch 38/50\n",
            "41/41 [==============================] - 0s 9ms/step - loss: 0.0071 - val_loss: 0.0061\n",
            "Epoch 39/50\n",
            "41/41 [==============================] - 0s 7ms/step - loss: 0.0062 - val_loss: 0.0078\n",
            "Epoch 40/50\n",
            "41/41 [==============================] - 0s 7ms/step - loss: 0.0064 - val_loss: 0.0071\n",
            "Epoch 41/50\n",
            "41/41 [==============================] - 0s 9ms/step - loss: 0.0057 - val_loss: 0.0057\n",
            "Epoch 42/50\n",
            "41/41 [==============================] - 0s 8ms/step - loss: 0.0060 - val_loss: 0.0055\n",
            "Epoch 43/50\n",
            "41/41 [==============================] - 0s 7ms/step - loss: 0.0054 - val_loss: 0.0074\n",
            "Epoch 44/50\n",
            "41/41 [==============================] - 0s 8ms/step - loss: 0.0057 - val_loss: 0.0057\n",
            "Epoch 45/50\n",
            "41/41 [==============================] - 0s 7ms/step - loss: 0.0057 - val_loss: 0.0060\n",
            "Epoch 46/50\n",
            "41/41 [==============================] - 0s 7ms/step - loss: 0.0052 - val_loss: 0.0067\n",
            "Epoch 47/50\n",
            "41/41 [==============================] - 0s 7ms/step - loss: 0.0053 - val_loss: 0.0068\n",
            "Epoch 48/50\n",
            "41/41 [==============================] - 0s 7ms/step - loss: 0.0051 - val_loss: 0.0045\n",
            "Epoch 49/50\n",
            "41/41 [==============================] - 0s 6ms/step - loss: 0.0048 - val_loss: 0.0064\n",
            "Epoch 50/50\n",
            "41/41 [==============================] - 0s 8ms/step - loss: 0.0049 - val_loss: 0.0056\n"
          ]
        }
      ],
      "source": [
        "model1.compile(optimizer='Adam', loss='mean_squared_error')\n",
        "history_classification=model1.fit(X_train, Y_train, epochs=50, batch_size=50, validation_data=(X_test, Y_test))"
      ]
    },
    {
      "cell_type": "markdown",
      "metadata": {
        "id": "NiMBV5IL2iBI"
      },
      "source": [
        "Evaluasi model classification"
      ]
    },
    {
      "cell_type": "code",
      "execution_count": 7,
      "metadata": {
        "colab": {
          "base_uri": "https://localhost:8080/",
          "height": 472
        },
        "id": "mjEf1Ch69e1f",
        "outputId": "dbbc55d3-f68a-4923-89d5-1664769c7e9c"
      },
      "outputs": [
        {
          "data": {
            "image/png": "[encoded data removed]",
            "text/plain": [
              "<Figure size 640x480 with 1 Axes>"
            ]
          },
          "metadata": {},
          "output_type": "display_data"
        }
      ],
      "source": [
        "plt.plot(history_classification.history['loss'])\n",
        "plt.plot(history_classification.history['val_loss'])\n",
        "plt.title('Model Loss')\n",
        "plt.ylabel(\"Loss\")\n",
        "plt.xlabel('Epoch')\n",
        "plt.legend(['Train', 'validation'])\n",
        "plt.show()"
      ]
    },
    {
      "cell_type": "markdown",
      "metadata": {
        "id": "fyP_oxRl2iBJ"
      },
      "source": [
        "# Model Rekomendasi"
      ]
    },
    {
      "cell_type": "code",
      "execution_count": 8,
      "metadata": {
        "id": "9ADa7q8I2iBJ"
      },
      "outputs": [],
      "source": [
        "# Menginisialisasi fitur dan label untuk sistem rekomendasi\n",
        "label_encoder = LabelEncoder()\n",
        "therapy = label_encoder.fit_transform(data['Therapy'])\n",
        "features = data[['Speech', 'Sensory', 'Physical', 'Social', 'Total','ASD_traits']]"
      ]
    },
    {
      "cell_type": "code",
      "execution_count": 9,
      "metadata": {
        "id": "4CjtmF7H2iBK"
      },
      "outputs": [],
      "source": [
        "# Split data training 90% dan testing 10%\n",
        "x_train = features[:training_size]\n",
        "x_test = features[training_size:]\n",
        "y_train = therapy[:training_size]\n",
        "y_test = therapy[training_size:]\n",
        "\n",
        "# Normalize data\n",
        "x_train_norm = ((x_train * x_train.mean())/x_train.std()).to_numpy()\n",
        "x_test_norm = ((x_test * x_test.mean())/x_test.std()).to_numpy()\n",
        "\n",
        "# One hot encoding labels\n",
        "y_train_encoded = tf.keras.utils.to_categorical(y_train, num_classes=12)\n",
        "y_test_encoded = tf.keras.utils.to_categorical(y_test, num_classes=12)"
      ]
    },
    {
      "cell_type": "code",
      "execution_count": 10,
      "metadata": {
        "colab": {
          "base_uri": "https://localhost:8080/"
        },
        "id": "x14bbChH2iBK",
        "outputId": "378d168d-dbd0-43f5-c924-c7e4b8aed944"
      },
      "outputs": [
        {
          "name": "stdout",
          "output_type": "stream",
          "text": [
            "Model: \"sequential_1\"\n",
            "_________________________________________________________________\n",
            " Layer (type)                Output Shape              Param #   \n",
            "=================================================================\n",
            " dense_5 (Dense)             (None, 128)               896       \n",
            "                                                                 \n",
            " dense_6 (Dense)             (None, 128)               16512     \n",
            "                                                                 \n",
            " dense_7 (Dense)             (None, 64)                8256      \n"
          ]
        },
        {
          "name": "stdout",
          "output_type": "stream",
          "text": [
            "                                                                 \n",
            " dropout_1 (Dropout)         (None, 64)                0         \n",
            "                                                                 \n",
            " dense_8 (Dense)             (None, 12)                780       \n",
            "                                                                 \n",
            "=================================================================\n",
            "Total params: 26444 (103.30 KB)\n",
            "Trainable params: 26444 (103.30 KB)\n",
            "Non-trainable params: 0 (0.00 Byte)\n",
            "_________________________________________________________________\n"
          ]
        }
      ],
      "source": [
        "model2 = tf.keras.Sequential([\n",
        "    tf.keras.layers.Dense(128, input_shape=(6,), activation=\"relu\"),\n",
        "    tf.keras.layers.Dense(128, activation='relu'),\n",
        "    tf.keras.layers.Dense(64, activation='relu'),\n",
        "    tf.keras.layers.Dropout(0.2),\n",
        "    tf.keras.layers.Dense(12, activation=\"softmax\")])\n",
        "model2.summary()"
      ]
    },
    {
      "cell_type": "code",
      "execution_count": 11,
      "metadata": {
        "colab": {
          "base_uri": "https://localhost:8080/"
        },
        "id": "dH4VethoPETl",
        "outputId": "15b74966-ae46-4b9e-e9c9-f4f1e6f61090"
      },
      "outputs": [
        {
          "name": "stdout",
          "output_type": "stream",
          "text": [
            "Epoch 1/10\n",
            "64/64 [==============================] - 3s 12ms/step - loss: 1.6146 - accuracy: 0.4510 - val_loss: 1.4534 - val_accuracy: 0.6106\n",
            "Epoch 2/10\n",
            "64/64 [==============================] - 0s 5ms/step - loss: 1.0142 - accuracy: 0.7265 - val_loss: 0.7836 - val_accuracy: 0.8009\n",
            "Epoch 3/10\n",
            "64/64 [==============================] - 0s 5ms/step - loss: 0.6309 - accuracy: 0.8512 - val_loss: 0.5605 - val_accuracy: 0.8628\n",
            "Epoch 4/10\n",
            "64/64 [==============================] - 0s 5ms/step - loss: 0.4924 - accuracy: 0.8901 - val_loss: 0.5459 - val_accuracy: 0.8717\n",
            "Epoch 5/10\n",
            "64/64 [==============================] - 0s 6ms/step - loss: 0.4299 - accuracy: 0.9069 - val_loss: 0.4983 - val_accuracy: 0.8982\n",
            "Epoch 6/10\n",
            "64/64 [==============================] - 0s 5ms/step - loss: 0.4026 - accuracy: 0.9182 - val_loss: 0.4243 - val_accuracy: 0.9071\n",
            "Epoch 7/10\n",
            "64/64 [==============================] - 0s 6ms/step - loss: 0.3644 - accuracy: 0.9276 - val_loss: 0.4341 - val_accuracy: 0.9071\n",
            "Epoch 8/10\n",
            "64/64 [==============================] - 0s 5ms/step - loss: 0.3529 - accuracy: 0.9300 - val_loss: 0.4426 - val_accuracy: 0.9071\n",
            "Epoch 9/10\n",
            "64/64 [==============================] - 0s 5ms/step - loss: 0.3401 - accuracy: 0.9305 - val_loss: 0.4322 - val_accuracy: 0.9071\n",
            "Epoch 10/10\n",
            "64/64 [==============================] - 0s 6ms/step - loss: 0.3353 - accuracy: 0.9330 - val_loss: 0.3890 - val_accuracy: 0.9071\n"
          ]
        }
      ],
      "source": [
        "model2.compile(optimizer='adam', loss='categorical_crossentropy', metrics=['accuracy'])\n",
        "history_reccomendations = model2.fit(x_train, y_train_encoded, epochs=10, batch_size=32, verbose=1, validation_data=(x_test,y_test_encoded))"
      ]
    },
    {
      "cell_type": "code",
      "execution_count": 12,
      "metadata": {
        "colab": {
          "base_uri": "https://localhost:8080/",
          "height": 472
        },
        "id": "DlsRXprB2iBL",
        "outputId": "cc0fbfae-8f0a-4600-b8af-5dfd0f9a2690"
      },
      "outputs": [
        {
          "data": {
            "image/png": "[encoded data removed]",
            "text/plain": [
              "<Figure size 640x480 with 1 Axes>"
            ]
          },
          "metadata": {},
          "output_type": "display_data"
        }
      ],
      "source": [
        "plt.plot(history_reccomendations.history['accuracy'])\n",
        "plt.plot(history_reccomendations.history['val_accuracy'])\n",
        "plt.title('Model Accuracy Reccomendation System')\n",
        "plt.ylabel(\"Accuracy\")\n",
        "plt.xlabel('Epoch')\n",
        "plt.legend(['Train', 'validation'], loc='upper left')\n",
        "plt.show()"
      ]
    },
    {
      "cell_type": "code",
      "execution_count": 13,
      "metadata": {
        "colab": {
          "base_uri": "https://localhost:8080/",
          "height": 472
        },
        "id": "cSMvcVgB2iBL",
        "outputId": "27d9481b-b61b-4043-9d58-a07a2cbd7126"
      },
      "outputs": [
        {
          "data": {
            "image/png": "[encoded data removed]",
            "text/plain": [
              "<Figure size 640x480 with 1 Axes>"
            ]
          },
          "metadata": {},
          "output_type": "display_data"
        }
      ],
      "source": [
        "plt.plot(history_reccomendations.history['loss'])\n",
        "plt.plot(history_reccomendations.history['val_loss'])\n",
        "plt.title('Model Loss Reccomendation System')\n",
        "plt.ylabel(\"Loss\")\n",
        "plt.xlabel('Epoch')\n",
        "plt.legend(['Train', 'validation'])\n",
        "plt.show()"
      ]
    },
    {
      "cell_type": "markdown",
      "metadata": {
        "id": "kfmItVyBcrLe"
      },
      "source": [
        "# Prediksi model\n",
        "\n",
        "Prediksi Klasifikasi"
      ]
    },
    {
      "cell_type": "code",
      "execution_count": 14,
      "metadata": {
        "colab": {
          "base_uri": "https://localhost:8080/"
        },
        "id": "dnxOYOqxAEPz",
        "outputId": "8a79fafd-031d-4923-c390-0d19f15e94a6"
      },
      "outputs": [],
      "source": [
        "# Input Time!\n",
        "input_A1 = int(input('A1: '))\n",
        "input_A2 = int(input('A2: '))\n",
        "input_A3 = int(input('A3: '))\n",
        "input_A4 = int(input('A4: '))\n",
        "input_A5 = int(input('A5: '))\n",
        "input_A6 = int(input('A6: '))\n",
        "input_A7 = int(input('A7: '))\n",
        "input_A8 = int(input('A8: '))\n",
        "input_A9 = int(input('A9: '))\n",
        "input_A10 = int(input('A10: '))\n",
        "input_speech = input_A1 + input_A5 + input_A3\n",
        "input_social = input_A1 + input_A2 + input_A3 + input_A4 + input_A5+ input_A6 + input_A7 + input_A9 + input_A10\n",
        "input_sensory = input_A1 + input_A6 + input_A8 + input_A10\n",
        "input_physical = input_A7 + input_A8 + input_A9\n",
        "input_total = input_A1 + input_A2 + input_A3 + input_A4 + input_A5 + input_A6 + input_A7 + input_A8 + input_A9 + input_A10\n",
        "input_Ages_Years = int(input('Age: '))\n",
        "input_Sex = int(input('Sex: '))\n",
        "input_Jaudience = int(input('Jaudience: '))\n",
        "input_Family_mem_with_ASD = int(input('Family_mem_with_ASD: '))\n",
        "input_Who_completed_the_test = int(input('Who_completed_the_test: '))"
      ]
    },
    {
      "cell_type": "code",
      "execution_count": 15,
      "metadata": {
        "id": "4-lJwHW-kIjY"
      },
      "outputs": [],
      "source": [
        "input = [[input_A1, input_A2, input_A3, input_A4, input_A5, input_A6, input_A7,\n",
        "      input_A8, input_A9, input_A10, input_speech, input_social, input_sensory,\n",
        "      input_physical, input_total, input_Ages_Years, input_Sex, input_Jaudience,\n",
        "      input_Family_mem_with_ASD, input_Who_completed_the_test]]\n",
        "user_input = pd.DataFrame(input,\n",
        "    columns=[\"A1\", \"A2\", \"A3\", \"A4\", \"A5\", \"A6\", \"A7\", \"A8\", \"A9\", \"A10\",\n",
        "             \"Speech\", \"Sensory\", \"Physical\", \"Social\", \"Total\", \"Age_Years\",\n",
        "             \"Sex\", \"Jaudience\", \"Family_mem_with_ASD\",\"Who_completed_the_test\"]\n",
        ")"
      ]
    },
    {
      "cell_type": "code",
      "execution_count": 16,
      "metadata": {
        "colab": {
          "base_uri": "https://localhost:8080/"
        },
        "id": "EEv0ETtbR7WZ",
        "outputId": "2f0a4878-9c9b-4080-ecc7-799e4ff6537f"
      },
      "outputs": [
        {
          "name": "stdout",
          "output_type": "stream",
          "text": [
            "1/1 [==============================] - 0s 264ms/step\n",
            "\n",
            "[[0.9037226]] menunjukkan gejala ASD\n"
          ]
        }
      ],
      "source": [
        "predictions = model1.predict(user_input)\n",
        "# Mengevaluasi hasil prediksi (berdasarkan threshold 0.5)\n",
        "predicted_labels = (predictions > 0.5).astype(int)\n",
        "print()\n",
        "if predicted_labels==1:\n",
        "    print(f\"{predictions} menunjukkan gejala ASD\")\n",
        "else:\n",
        "    print(f\"{predictions} tidak menunukkan gejala ASD\")"
      ]
    },
    {
      "cell_type": "code",
      "execution_count": 17,
      "metadata": {
        "id": "Q-hy6-V4GWw2"
      },
      "outputs": [
        {
          "name": "stdout",
          "output_type": "stream",
          "text": [
            "Nama gambar:  12142f74-26a7-433c-8c75-101608924bb7.png\n"
          ]
        },
        {
          "data": {
            "image/png": "[encoded data removed]",
            "text/plain": [
              "<Figure size 640x480 with 1 Axes>"
            ]
          },
          "metadata": {},
          "output_type": "display_data"
        }
      ],
      "source": [
        "import matplotlib.pyplot as plt\n",
        "import uuid\n",
        "def percentage_delay(A):\n",
        "    categories = ['speech', 'social', 'sensory', 'physical']\n",
        "    a_cat_list = [\n",
        "        [1, 1, 1, 0],\n",
        "        [0, 1, 0, 0],\n",
        "        [1, 1, 0, 0],\n",
        "        [0, 1, 0, 0],\n",
        "        [1, 1, 0, 0],\n",
        "        [0, 1, 1, 0],\n",
        "        [0, 1, 0, 1],\n",
        "        [0, 0, 1, 1],\n",
        "        [0, 1, 0, 1],\n",
        "        [0, 1, 1, 0]\n",
        "    ]\n",
        "\n",
        "    total_cases = len(A)\n",
        "    category_sums = {category: 0 for category in categories}\n",
        "\n",
        "    for i in range(total_cases):\n",
        "        current_a = A[i]\n",
        "\n",
        "        if current_a == 1:\n",
        "            current_a_cat = a_cat_list[i]\n",
        "            for j in range(len(categories)):\n",
        "                category_sums[categories[j]] += current_a_cat[j]\n",
        "\n",
        "    # Calculate the total sum across all categories\n",
        "    total_sum = sum(category_sums.values())\n",
        "\n",
        "    # Calculate the percentage for each category\n",
        "    category_percentages = {category: (count / total_sum) * 100 for category, count in category_sums.items()}\n",
        "\n",
        "    # Create a pie chart\n",
        "    labels = list(category_percentages.keys())\n",
        "    sizes = list(category_percentages.values())\n",
        "\n",
        "    #add colors\n",
        "    colors = [\"#ff9999\",\"#66b3ff\",\"#99ff99\",\"#ffcc99\"]\n",
        "\n",
        "    plt.pie(sizes, labels=labels, autopct='%1.1f%%', startangle=90, colors=colors)\n",
        "    plt.axis('equal')  # Equal aspect ratio ensures that the pie chart is drawn as a circle.\n",
        "\n",
        "    plt.title('Percentage Delay by Category')\n",
        "    nama_gambar = str(uuid.uuid4()) + '.png'\n",
        "    # Menyimpan gambar\n",
        "    plt.savefig(nama_gambar)\n",
        "    print('Nama gambar: ', nama_gambar)\n",
        "    plt.show()\n",
        "    \n",
        "\n",
        "A = [input_A1, input_A2, input_A3, input_A4, input_A5, input_A6, input_A7, input_A8, input_A9, input_A10]\n",
        "percentage_delay(A)"
      ]
    },
    {
      "cell_type": "markdown",
      "metadata": {
        "id": "l90B34LnJqz7"
      },
      "source": [
        "Melakukan prediksi untuk terapy"
      ]
    },
    {
      "cell_type": "code",
      "execution_count": 19,
      "metadata": {
        "id": "xRD3qQ_l2iBM"
      },
      "outputs": [],
      "source": [
        "# Memasukkan prediksi ASD ke dalam frame yang sama\n",
        "# Untuk selanjutnya masuk ke rekomendasi terapi\n",
        "user_input['ASD_traits'] = predicted_labels\n",
        "user_input = user_input[['Speech', 'Sensory', 'Physical', 'Social', 'Total', 'ASD_traits']]\n"
      ]
    },
    {
      "cell_type": "code",
      "execution_count": 20,
      "metadata": {
        "colab": {
          "base_uri": "https://localhost:8080/"
        },
        "id": "Im825xNX2iBN",
        "outputId": "538a0bd9-c031-4e0f-dcb6-0f3e2833ef2d"
      },
      "outputs": [
        {
          "name": "stdout",
          "output_type": "stream",
          "text": [
            "1/1 [==============================] - 0s 131ms/step\n",
            "Top 3 Rekomendasi Terpi:\n",
            "Colorful Vulcano\n",
            "Sentuhan Ajaib\n",
            "Tiru Suara Fauna\n"
          ]
        }
      ],
      "source": [
        "predictions = model2.predict(user_input)\n",
        "# Mengambil 5 hasil prediksi tertinggi\n",
        "top_n = 3\n",
        "top_indices = np.argsort(predictions[0])[::-1][:top_n]\n",
        "top_probabilities = predictions[0][top_indices]\n",
        "\n",
        "label_asli = {1: \"Tiru Suara Fauna\",\n",
        "              2: \"Abeceria Anak\",\n",
        "              3: \"Wicara Terapi\",\n",
        "              4: \"SociPlay Therapy\",\n",
        "              5: \"InterActElevate Therapy\",\n",
        "              6: \"SosioLeap Therapy\",\n",
        "              7: \"Sentuhan Ajaib\",\n",
        "              8: \"Colorful Vulcano\",\n",
        "              9: \"Sensori Kreatif\",\n",
        "              10: \"Rhythmika Anak\",\n",
        "              11: \"Nature Play\",\n",
        "              12: \"JoyMotion\"}\n",
        "\n",
        "# Menampilkan hasil prediksi dalam bentuk label asli\n",
        "print(f\"Top {top_n} Rekomendasi Terpi:\")\n",
        "for label, prob in zip(top_indices, top_probabilities):\n",
        "    original_label = label_asli[label]\n",
        "    print(f\"{original_label}\")"
      ]
    },
    {
      "cell_type": "code",
      "execution_count": 21,
      "metadata": {
        "id": "qebTx64UfJev"
      },
      "outputs": [
        {
          "name": "stderr",
          "output_type": "stream",
          "text": [
            "c:\\Users\\ASUS\\AppData\\Local\\Programs\\Python\\Python311\\Lib\\site-packages\\keras\\src\\engine\\training.py:3079: UserWarning: You are saving your model as an HDF5 file via `model.save()`. This file format is considered legacy. We recommend using instead the native Keras format, e.g. `model.save('my_model.keras')`.\n",
            "  saving_api.save_model(\n"
          ]
        }
      ],
      "source": [
        "# Save model\n",
        "model1.save(\"Model1.h5\")\n",
        "model2.save(\"Model2.h5\")"
      ]
    },
    {
      "cell_type": "code",
      "execution_count": 22,
      "metadata": {
        "id": "A4b0y0phfLQ2"
      },
      "outputs": [
        {
          "name": "stdout",
          "output_type": "stream",
          "text": [
            "INFO:tensorflow:Assets written to: C:\\Users\\ASUS\\AppData\\Local\\Temp\\tmpg6rrrjyz\\assets\n"
          ]
        },
        {
          "name": "stderr",
          "output_type": "stream",
          "text": [
            "INFO:tensorflow:Assets written to: C:\\Users\\ASUS\\AppData\\Local\\Temp\\tmpg6rrrjyz\\assets\n"
          ]
        },
        {
          "name": "stdout",
          "output_type": "stream",
          "text": [
            "INFO:tensorflow:Assets written to: C:\\Users\\ASUS\\AppData\\Local\\Temp\\tmpsiusum6x\\assets\n"
          ]
        },
        {
          "name": "stderr",
          "output_type": "stream",
          "text": [
            "INFO:tensorflow:Assets written to: C:\\Users\\ASUS\\AppData\\Local\\Temp\\tmpsiusum6x\\assets\n"
          ]
        }
      ],
      "source": [
        "# Konversi kedua model ke dalam format TFLite (.tflite)\n",
        "converter1 = tf.lite.TFLiteConverter.from_keras_model(model1)\n",
        "tflite_m1 = converter1.convert()\n",
        "\n",
        "converter2 = tf.lite.TFLiteConverter.from_keras_model(model2)\n",
        "tflite_m2 = converter2.convert()\n",
        "\n",
        "combine_converter = tflite_m1 + tflite_m2\n",
        "# Simpan kedua model TFLite ke dalam file yang sama\n",
        "with open(\"Model.tflite\", \"wb\") as f:\n",
        "    f.write(combine_converter)"
      ]
    }
  ],
  "metadata": {
    "colab": {
      "provenance": []
    },
    "kernelspec": {
      "display_name": "Python 3",
      "name": "python3"
    },
    "language_info": {
      "codemirror_mode": {
        "name": "ipython",
        "version": 3
      },
      "file_extension": ".py",
      "mimetype": "text/x-python",
      "name": "python",
      "nbconvert_exporter": "python",
      "pygments_lexer": "ipython3",
      "version": "3.11.2"
    }
  },
  "nbformat": 4,
  "nbformat_minor": 0
}
