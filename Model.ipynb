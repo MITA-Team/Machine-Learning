{
  "cells": [
    {
      "cell_type": "markdown",
      "source": [
        "# Model Capstone Product Based CH2-PS081\n",
        "\n",
        "<table class=\"tfo-notebook-buttons\" align=\"left\">\n",
        "  <td>\n",
        "    <a target=\"_blank\" href=\"https://colab.research.google.com/drive/15ST_2Nmqlw3cw8U8Q_wHqPyaKd1YXTzq#scrollTo=J6Z17h4pO9VT\"><img src=\"https://www.tensorflow.org/images/colab_logo_32px.png\" />Run in Google Colab</a>\n",
        "  </td>\n",
        "  <td>\n",
        "    <a target=\"_blank\" href=\"https://github.com/tensorflow/recommenders/blob/main/docs/examples/quickstart.ipynb\"><img src=\"https://www.tensorflow.org/images/GitHub-Mark-32px.png\" />View source on GitHub</a>\n",
        "  </td>\n",
        "</table>"
      ],
      "metadata": {
        "id": "J6Z17h4pO9VT"
      }
    },
    {
      "cell_type": "code",
      "execution_count": null,
      "metadata": {
        "id": "m1JJJDUteosB"
      },
      "outputs": [],
      "source": [
        "import pandas as pd\n",
        "import numpy as np\n",
        "import tensorflow as tf\n",
        "import matplotlib.pyplot as plt\n",
        "from sklearn.preprocessing import StandardScaler, LabelEncoder"
      ]
    },
    {
      "cell_type": "code",
      "execution_count": null,
      "metadata": {
        "colab": {
          "base_uri": "https://localhost:8080/",
          "height": 255
        },
        "id": "hIfUixgLC_do",
        "outputId": "b803b9d8-a6fe-400f-f971-0a1b77eb077b"
      },
      "outputs": [
        {
          "output_type": "execute_result",
          "data": {
            "text/plain": [
              "   Case_No  A1  A2  A3  A4  A5  A6  A7  A8  A9  ...  Physical  Total  \\\n",
              "0        1   0   0   0   0   0   0   1   1   0  ...         2      3   \n",
              "1        2   1   1   0   0   0   1   1   0   0  ...         1      4   \n",
              "2        3   1   0   0   0   0   0   1   1   0  ...         2      4   \n",
              "3        4   1   1   1   1   1   1   1   1   1  ...         3     10   \n",
              "4        5   1   1   0   1   1   1   1   1   1  ...         3      9   \n",
              "\n",
              "   Age_Years  Sex  Jaundice  Family_mem_with_ASD  Who_completed_the_test  \\\n",
              "0          2    1         1                    0                       0   \n",
              "1          3    0         1                    0                       0   \n",
              "2          3    0         1                    0                       0   \n",
              "3          2    0         0                    0                       0   \n",
              "4          2    1         0                    1                       0   \n",
              "\n",
              "   ASD_traits  Therapy  Percentage  \n",
              "0           0        9   [0:2:2:2]  \n",
              "1           1        5   [1:2:1:4]  \n",
              "2           1        8   [1:3:2:3]  \n",
              "3           1        4   [3:4:3:9]  \n",
              "4           1        8   [2:4:3:8]  \n",
              "\n",
              "[5 rows x 24 columns]"
            ],
            "text/html": [
              "\n",
              "  <div id=\"df-aeb29136-a523-4b69-9dea-212c31bec77d\" class=\"colab-df-container\">\n",
              "    <div>\n",
              "<style scoped>\n",
              "    .dataframe tbody tr th:only-of-type {\n",
              "        vertical-align: middle;\n",
              "    }\n",
              "\n",
              "    .dataframe tbody tr th {\n",
              "        vertical-align: top;\n",
              "    }\n",
              "\n",
              "    .dataframe thead th {\n",
              "        text-align: right;\n",
              "    }\n",
              "</style>\n",
              "<table border=\"1\" class=\"dataframe\">\n",
              "  <thead>\n",
              "    <tr style=\"text-align: right;\">\n",
              "      <th></th>\n",
              "      <th>Case_No</th>\n",
              "      <th>A1</th>\n",
              "      <th>A2</th>\n",
              "      <th>A3</th>\n",
              "      <th>A4</th>\n",
              "      <th>A5</th>\n",
              "      <th>A6</th>\n",
              "      <th>A7</th>\n",
              "      <th>A8</th>\n",
              "      <th>A9</th>\n",
              "      <th>...</th>\n",
              "      <th>Physical</th>\n",
              "      <th>Total</th>\n",
              "      <th>Age_Years</th>\n",
              "      <th>Sex</th>\n",
              "      <th>Jaundice</th>\n",
              "      <th>Family_mem_with_ASD</th>\n",
              "      <th>Who_completed_the_test</th>\n",
              "      <th>ASD_traits</th>\n",
              "      <th>Therapy</th>\n",
              "      <th>Percentage</th>\n",
              "    </tr>\n",
              "  </thead>\n",
              "  <tbody>\n",
              "    <tr>\n",
              "      <th>0</th>\n",
              "      <td>1</td>\n",
              "      <td>0</td>\n",
              "      <td>0</td>\n",
              "      <td>0</td>\n",
              "      <td>0</td>\n",
              "      <td>0</td>\n",
              "      <td>0</td>\n",
              "      <td>1</td>\n",
              "      <td>1</td>\n",
              "      <td>0</td>\n",
              "      <td>...</td>\n",
              "      <td>2</td>\n",
              "      <td>3</td>\n",
              "      <td>2</td>\n",
              "      <td>1</td>\n",
              "      <td>1</td>\n",
              "      <td>0</td>\n",
              "      <td>0</td>\n",
              "      <td>0</td>\n",
              "      <td>9</td>\n",
              "      <td>[0:2:2:2]</td>\n",
              "    </tr>\n",
              "    <tr>\n",
              "      <th>1</th>\n",
              "      <td>2</td>\n",
              "      <td>1</td>\n",
              "      <td>1</td>\n",
              "      <td>0</td>\n",
              "      <td>0</td>\n",
              "      <td>0</td>\n",
              "      <td>1</td>\n",
              "      <td>1</td>\n",
              "      <td>0</td>\n",
              "      <td>0</td>\n",
              "      <td>...</td>\n",
              "      <td>1</td>\n",
              "      <td>4</td>\n",
              "      <td>3</td>\n",
              "      <td>0</td>\n",
              "      <td>1</td>\n",
              "      <td>0</td>\n",
              "      <td>0</td>\n",
              "      <td>1</td>\n",
              "      <td>5</td>\n",
              "      <td>[1:2:1:4]</td>\n",
              "    </tr>\n",
              "    <tr>\n",
              "      <th>2</th>\n",
              "      <td>3</td>\n",
              "      <td>1</td>\n",
              "      <td>0</td>\n",
              "      <td>0</td>\n",
              "      <td>0</td>\n",
              "      <td>0</td>\n",
              "      <td>0</td>\n",
              "      <td>1</td>\n",
              "      <td>1</td>\n",
              "      <td>0</td>\n",
              "      <td>...</td>\n",
              "      <td>2</td>\n",
              "      <td>4</td>\n",
              "      <td>3</td>\n",
              "      <td>0</td>\n",
              "      <td>1</td>\n",
              "      <td>0</td>\n",
              "      <td>0</td>\n",
              "      <td>1</td>\n",
              "      <td>8</td>\n",
              "      <td>[1:3:2:3]</td>\n",
              "    </tr>\n",
              "    <tr>\n",
              "      <th>3</th>\n",
              "      <td>4</td>\n",
              "      <td>1</td>\n",
              "      <td>1</td>\n",
              "      <td>1</td>\n",
              "      <td>1</td>\n",
              "      <td>1</td>\n",
              "      <td>1</td>\n",
              "      <td>1</td>\n",
              "      <td>1</td>\n",
              "      <td>1</td>\n",
              "      <td>...</td>\n",
              "      <td>3</td>\n",
              "      <td>10</td>\n",
              "      <td>2</td>\n",
              "      <td>0</td>\n",
              "      <td>0</td>\n",
              "      <td>0</td>\n",
              "      <td>0</td>\n",
              "      <td>1</td>\n",
              "      <td>4</td>\n",
              "      <td>[3:4:3:9]</td>\n",
              "    </tr>\n",
              "    <tr>\n",
              "      <th>4</th>\n",
              "      <td>5</td>\n",
              "      <td>1</td>\n",
              "      <td>1</td>\n",
              "      <td>0</td>\n",
              "      <td>1</td>\n",
              "      <td>1</td>\n",
              "      <td>1</td>\n",
              "      <td>1</td>\n",
              "      <td>1</td>\n",
              "      <td>1</td>\n",
              "      <td>...</td>\n",
              "      <td>3</td>\n",
              "      <td>9</td>\n",
              "      <td>2</td>\n",
              "      <td>1</td>\n",
              "      <td>0</td>\n",
              "      <td>1</td>\n",
              "      <td>0</td>\n",
              "      <td>1</td>\n",
              "      <td>8</td>\n",
              "      <td>[2:4:3:8]</td>\n",
              "    </tr>\n",
              "  </tbody>\n",
              "</table>\n",
              "<p>5 rows × 24 columns</p>\n",
              "</div>\n",
              "    <div class=\"colab-df-buttons\">\n",
              "\n",
              "  <div class=\"colab-df-container\">\n",
              "    <button class=\"colab-df-convert\" onclick=\"convertToInteractive('df-aeb29136-a523-4b69-9dea-212c31bec77d')\"\n",
              "            title=\"Convert this dataframe to an interactive table.\"\n",
              "            style=\"display:none;\">\n",
              "\n",
              "  <svg xmlns=\"http://www.w3.org/2000/svg\" height=\"24px\" viewBox=\"0 -960 960 960\">\n",
              "    <path d=\"M120-120v-720h720v720H120Zm60-500h600v-160H180v160Zm220 220h160v-160H400v160Zm0 220h160v-160H400v160ZM180-400h160v-160H180v160Zm440 0h160v-160H620v160ZM180-180h160v-160H180v160Zm440 0h160v-160H620v160Z\"/>\n",
              "  </svg>\n",
              "    </button>\n",
              "\n",
              "  <style>\n",
              "    .colab-df-container {\n",
              "      display:flex;\n",
              "      gap: 12px;\n",
              "    }\n",
              "\n",
              "    .colab-df-convert {\n",
              "      background-color: #E8F0FE;\n",
              "      border: none;\n",
              "      border-radius: 50%;\n",
              "      cursor: pointer;\n",
              "      display: none;\n",
              "      fill: #1967D2;\n",
              "      height: 32px;\n",
              "      padding: 0 0 0 0;\n",
              "      width: 32px;\n",
              "    }\n",
              "\n",
              "    .colab-df-convert:hover {\n",
              "      background-color: #E2EBFA;\n",
              "      box-shadow: 0px 1px 2px rgba(60, 64, 67, 0.3), 0px 1px 3px 1px rgba(60, 64, 67, 0.15);\n",
              "      fill: #174EA6;\n",
              "    }\n",
              "\n",
              "    .colab-df-buttons div {\n",
              "      margin-bottom: 4px;\n",
              "    }\n",
              "\n",
              "    [theme=dark] .colab-df-convert {\n",
              "      background-color: #3B4455;\n",
              "      fill: #D2E3FC;\n",
              "    }\n",
              "\n",
              "    [theme=dark] .colab-df-convert:hover {\n",
              "      background-color: #434B5C;\n",
              "      box-shadow: 0px 1px 3px 1px rgba(0, 0, 0, 0.15);\n",
              "      filter: drop-shadow(0px 1px 2px rgba(0, 0, 0, 0.3));\n",
              "      fill: #FFFFFF;\n",
              "    }\n",
              "  </style>\n",
              "\n",
              "    <script>\n",
              "      const buttonEl =\n",
              "        document.querySelector('#df-aeb29136-a523-4b69-9dea-212c31bec77d button.colab-df-convert');\n",
              "      buttonEl.style.display =\n",
              "        google.colab.kernel.accessAllowed ? 'block' : 'none';\n",
              "\n",
              "      async function convertToInteractive(key) {\n",
              "        const element = document.querySelector('#df-aeb29136-a523-4b69-9dea-212c31bec77d');\n",
              "        const dataTable =\n",
              "          await google.colab.kernel.invokeFunction('convertToInteractive',\n",
              "                                                    [key], {});\n",
              "        if (!dataTable) return;\n",
              "\n",
              "        const docLinkHtml = 'Like what you see? Visit the ' +\n",
              "          '<a target=\"_blank\" href=https://colab.research.google.com/notebooks/data_table.ipynb>data table notebook</a>'\n",
              "          + ' to learn more about interactive tables.';\n",
              "        element.innerHTML = '';\n",
              "        dataTable['output_type'] = 'display_data';\n",
              "        await google.colab.output.renderOutput(dataTable, element);\n",
              "        const docLink = document.createElement('div');\n",
              "        docLink.innerHTML = docLinkHtml;\n",
              "        element.appendChild(docLink);\n",
              "      }\n",
              "    </script>\n",
              "  </div>\n",
              "\n",
              "\n",
              "<div id=\"df-ed6d0d57-5d67-4a99-b34c-d215313d350a\">\n",
              "  <button class=\"colab-df-quickchart\" onclick=\"quickchart('df-ed6d0d57-5d67-4a99-b34c-d215313d350a')\"\n",
              "            title=\"Suggest charts\"\n",
              "            style=\"display:none;\">\n",
              "\n",
              "<svg xmlns=\"http://www.w3.org/2000/svg\" height=\"24px\"viewBox=\"0 0 24 24\"\n",
              "     width=\"24px\">\n",
              "    <g>\n",
              "        <path d=\"M19 3H5c-1.1 0-2 .9-2 2v14c0 1.1.9 2 2 2h14c1.1 0 2-.9 2-2V5c0-1.1-.9-2-2-2zM9 17H7v-7h2v7zm4 0h-2V7h2v10zm4 0h-2v-4h2v4z\"/>\n",
              "    </g>\n",
              "</svg>\n",
              "  </button>\n",
              "\n",
              "<style>\n",
              "  .colab-df-quickchart {\n",
              "      --bg-color: #E8F0FE;\n",
              "      --fill-color: #1967D2;\n",
              "      --hover-bg-color: #E2EBFA;\n",
              "      --hover-fill-color: #174EA6;\n",
              "      --disabled-fill-color: #AAA;\n",
              "      --disabled-bg-color: #DDD;\n",
              "  }\n",
              "\n",
              "  [theme=dark] .colab-df-quickchart {\n",
              "      --bg-color: #3B4455;\n",
              "      --fill-color: #D2E3FC;\n",
              "      --hover-bg-color: #434B5C;\n",
              "      --hover-fill-color: #FFFFFF;\n",
              "      --disabled-bg-color: #3B4455;\n",
              "      --disabled-fill-color: #666;\n",
              "  }\n",
              "\n",
              "  .colab-df-quickchart {\n",
              "    background-color: var(--bg-color);\n",
              "    border: none;\n",
              "    border-radius: 50%;\n",
              "    cursor: pointer;\n",
              "    display: none;\n",
              "    fill: var(--fill-color);\n",
              "    height: 32px;\n",
              "    padding: 0;\n",
              "    width: 32px;\n",
              "  }\n",
              "\n",
              "  .colab-df-quickchart:hover {\n",
              "    background-color: var(--hover-bg-color);\n",
              "    box-shadow: 0 1px 2px rgba(60, 64, 67, 0.3), 0 1px 3px 1px rgba(60, 64, 67, 0.15);\n",
              "    fill: var(--button-hover-fill-color);\n",
              "  }\n",
              "\n",
              "  .colab-df-quickchart-complete:disabled,\n",
              "  .colab-df-quickchart-complete:disabled:hover {\n",
              "    background-color: var(--disabled-bg-color);\n",
              "    fill: var(--disabled-fill-color);\n",
              "    box-shadow: none;\n",
              "  }\n",
              "\n",
              "  .colab-df-spinner {\n",
              "    border: 2px solid var(--fill-color);\n",
              "    border-color: transparent;\n",
              "    border-bottom-color: var(--fill-color);\n",
              "    animation:\n",
              "      spin 1s steps(1) infinite;\n",
              "  }\n",
              "\n",
              "  @keyframes spin {\n",
              "    0% {\n",
              "      border-color: transparent;\n",
              "      border-bottom-color: var(--fill-color);\n",
              "      border-left-color: var(--fill-color);\n",
              "    }\n",
              "    20% {\n",
              "      border-color: transparent;\n",
              "      border-left-color: var(--fill-color);\n",
              "      border-top-color: var(--fill-color);\n",
              "    }\n",
              "    30% {\n",
              "      border-color: transparent;\n",
              "      border-left-color: var(--fill-color);\n",
              "      border-top-color: var(--fill-color);\n",
              "      border-right-color: var(--fill-color);\n",
              "    }\n",
              "    40% {\n",
              "      border-color: transparent;\n",
              "      border-right-color: var(--fill-color);\n",
              "      border-top-color: var(--fill-color);\n",
              "    }\n",
              "    60% {\n",
              "      border-color: transparent;\n",
              "      border-right-color: var(--fill-color);\n",
              "    }\n",
              "    80% {\n",
              "      border-color: transparent;\n",
              "      border-right-color: var(--fill-color);\n",
              "      border-bottom-color: var(--fill-color);\n",
              "    }\n",
              "    90% {\n",
              "      border-color: transparent;\n",
              "      border-bottom-color: var(--fill-color);\n",
              "    }\n",
              "  }\n",
              "</style>\n",
              "\n",
              "  <script>\n",
              "    async function quickchart(key) {\n",
              "      const quickchartButtonEl =\n",
              "        document.querySelector('#' + key + ' button');\n",
              "      quickchartButtonEl.disabled = true;  // To prevent multiple clicks.\n",
              "      quickchartButtonEl.classList.add('colab-df-spinner');\n",
              "      try {\n",
              "        const charts = await google.colab.kernel.invokeFunction(\n",
              "            'suggestCharts', [key], {});\n",
              "      } catch (error) {\n",
              "        console.error('Error during call to suggestCharts:', error);\n",
              "      }\n",
              "      quickchartButtonEl.classList.remove('colab-df-spinner');\n",
              "      quickchartButtonEl.classList.add('colab-df-quickchart-complete');\n",
              "    }\n",
              "    (() => {\n",
              "      let quickchartButtonEl =\n",
              "        document.querySelector('#df-ed6d0d57-5d67-4a99-b34c-d215313d350a button');\n",
              "      quickchartButtonEl.style.display =\n",
              "        google.colab.kernel.accessAllowed ? 'block' : 'none';\n",
              "    })();\n",
              "  </script>\n",
              "</div>\n",
              "    </div>\n",
              "  </div>\n"
            ]
          },
          "metadata": {},
          "execution_count": 2
        }
      ],
      "source": [
        "url = 'https://github.com/MITA-Team/Machine-Learning/raw/main/Datasets.csv'\n",
        "data = pd.read_csv(url)\n",
        "data.head(5)"
      ]
    },
    {
      "cell_type": "markdown",
      "metadata": {
        "id": "MwZc9_g52iBF"
      },
      "source": [
        "# Model Klasifikasi ASD"
      ]
    },
    {
      "cell_type": "code",
      "execution_count": null,
      "metadata": {
        "id": "dUkITtnwDKQb"
      },
      "outputs": [],
      "source": [
        "# Menginisialisasi data label dan input\n",
        "X = data.drop(['Therapy', 'ASD_traits', 'Percentage', 'Case_No'], axis=1)\n",
        "Y = data['ASD_traits']"
      ]
    },
    {
      "cell_type": "code",
      "execution_count": null,
      "metadata": {
        "id": "kQLiQ2kEzrtP"
      },
      "outputs": [],
      "source": [
        "# Split data dengan Training data 80% dan validation data 20%\n",
        "training_size= int(len(data)*0.8)\n",
        "\n",
        "X_train = X[:training_size]\n",
        "X_test = X[training_size:]\n",
        "Y_train = Y[:training_size]\n",
        "Y_test = Y[training_size:]"
      ]
    },
    {
      "cell_type": "code",
      "execution_count": null,
      "metadata": {
        "colab": {
          "base_uri": "https://localhost:8080/"
        },
        "id": "V98VUmNxTLW3",
        "outputId": "a0dc6a23-188d-4160-c298-48d8bf4c5d21"
      },
      "outputs": [
        {
          "output_type": "stream",
          "name": "stdout",
          "text": [
            "Epoch 1/50\n",
            "57/57 [==============================] - 2s 8ms/step - loss: 0.2401 - accuracy: 0.8841 - val_loss: 0.1322 - val_accuracy: 0.9557\n",
            "Epoch 2/50\n",
            "57/57 [==============================] - 0s 3ms/step - loss: 0.1178 - accuracy: 0.9573 - val_loss: 0.1105 - val_accuracy: 0.9645\n",
            "Epoch 3/50\n",
            "57/57 [==============================] - 0s 4ms/step - loss: 0.0904 - accuracy: 0.9712 - val_loss: 0.0860 - val_accuracy: 0.9800\n",
            "Epoch 4/50\n",
            "57/57 [==============================] - 0s 3ms/step - loss: 0.0683 - accuracy: 0.9800 - val_loss: 0.0746 - val_accuracy: 0.9823\n",
            "Epoch 5/50\n",
            "57/57 [==============================] - 0s 3ms/step - loss: 0.0560 - accuracy: 0.9845 - val_loss: 0.0725 - val_accuracy: 0.9823\n",
            "Epoch 6/50\n",
            "57/57 [==============================] - 0s 4ms/step - loss: 0.0458 - accuracy: 0.9878 - val_loss: 0.0560 - val_accuracy: 0.9889\n",
            "Epoch 7/50\n",
            "57/57 [==============================] - 0s 4ms/step - loss: 0.0354 - accuracy: 0.9928 - val_loss: 0.0460 - val_accuracy: 0.9956\n",
            "Epoch 8/50\n",
            "57/57 [==============================] - 0s 4ms/step - loss: 0.0310 - accuracy: 0.9956 - val_loss: 0.0400 - val_accuracy: 0.9956\n",
            "Epoch 9/50\n",
            "57/57 [==============================] - 0s 3ms/step - loss: 0.0260 - accuracy: 0.9961 - val_loss: 0.0378 - val_accuracy: 0.9956\n",
            "Epoch 10/50\n",
            "57/57 [==============================] - 0s 3ms/step - loss: 0.0191 - accuracy: 0.9983 - val_loss: 0.0292 - val_accuracy: 0.9956\n",
            "Epoch 11/50\n",
            "57/57 [==============================] - 0s 3ms/step - loss: 0.0162 - accuracy: 0.9978 - val_loss: 0.0233 - val_accuracy: 0.9956\n",
            "Epoch 12/50\n",
            "57/57 [==============================] - 0s 5ms/step - loss: 0.0125 - accuracy: 0.9983 - val_loss: 0.0213 - val_accuracy: 0.9956\n",
            "Epoch 13/50\n",
            "57/57 [==============================] - 1s 9ms/step - loss: 0.0102 - accuracy: 0.9983 - val_loss: 0.0188 - val_accuracy: 0.9956\n",
            "Epoch 14/50\n",
            "57/57 [==============================] - 1s 14ms/step - loss: 0.0091 - accuracy: 0.9983 - val_loss: 0.0140 - val_accuracy: 0.9956\n",
            "Epoch 15/50\n",
            "57/57 [==============================] - 1s 10ms/step - loss: 0.0068 - accuracy: 0.9994 - val_loss: 0.0142 - val_accuracy: 0.9956\n",
            "Epoch 16/50\n",
            "57/57 [==============================] - 1s 10ms/step - loss: 0.0059 - accuracy: 0.9994 - val_loss: 0.0140 - val_accuracy: 0.9956\n",
            "Epoch 17/50\n",
            "57/57 [==============================] - 1s 11ms/step - loss: 0.0054 - accuracy: 0.9994 - val_loss: 0.0117 - val_accuracy: 0.9956\n",
            "Epoch 18/50\n",
            "57/57 [==============================] - 1s 9ms/step - loss: 0.0046 - accuracy: 0.9994 - val_loss: 0.0096 - val_accuracy: 0.9956\n",
            "Epoch 19/50\n",
            "57/57 [==============================] - 1s 9ms/step - loss: 0.0039 - accuracy: 0.9994 - val_loss: 0.0107 - val_accuracy: 0.9956\n",
            "Epoch 20/50\n",
            "57/57 [==============================] - 1s 12ms/step - loss: 0.0035 - accuracy: 0.9994 - val_loss: 0.0083 - val_accuracy: 0.9956\n",
            "Epoch 21/50\n",
            "57/57 [==============================] - 0s 7ms/step - loss: 0.0032 - accuracy: 0.9994 - val_loss: 0.0087 - val_accuracy: 0.9956\n",
            "Epoch 22/50\n",
            "57/57 [==============================] - 1s 11ms/step - loss: 0.0034 - accuracy: 0.9994 - val_loss: 0.0147 - val_accuracy: 0.9956\n",
            "Epoch 23/50\n",
            "57/57 [==============================] - 0s 6ms/step - loss: 0.0035 - accuracy: 0.9994 - val_loss: 0.0093 - val_accuracy: 0.9956\n",
            "Epoch 24/50\n",
            "57/57 [==============================] - 0s 6ms/step - loss: 0.0027 - accuracy: 0.9994 - val_loss: 0.0074 - val_accuracy: 0.9956\n",
            "Epoch 25/50\n",
            "57/57 [==============================] - 0s 6ms/step - loss: 0.0027 - accuracy: 0.9994 - val_loss: 0.0074 - val_accuracy: 0.9956\n",
            "Epoch 26/50\n",
            "57/57 [==============================] - 0s 8ms/step - loss: 0.0028 - accuracy: 0.9994 - val_loss: 0.0065 - val_accuracy: 0.9956\n",
            "Epoch 27/50\n",
            "57/57 [==============================] - 0s 5ms/step - loss: 0.0024 - accuracy: 0.9989 - val_loss: 0.0101 - val_accuracy: 0.9956\n",
            "Epoch 28/50\n",
            "57/57 [==============================] - 0s 5ms/step - loss: 0.0025 - accuracy: 0.9994 - val_loss: 0.0064 - val_accuracy: 0.9956\n",
            "Epoch 29/50\n",
            "57/57 [==============================] - 0s 5ms/step - loss: 0.0021 - accuracy: 0.9989 - val_loss: 0.0080 - val_accuracy: 0.9956\n",
            "Epoch 30/50\n",
            "57/57 [==============================] - 0s 7ms/step - loss: 0.0024 - accuracy: 0.9994 - val_loss: 0.0082 - val_accuracy: 0.9956\n",
            "Epoch 31/50\n",
            "57/57 [==============================] - 0s 6ms/step - loss: 0.0023 - accuracy: 0.9994 - val_loss: 0.0073 - val_accuracy: 0.9956\n",
            "Epoch 32/50\n",
            "57/57 [==============================] - 0s 6ms/step - loss: 0.0021 - accuracy: 0.9989 - val_loss: 0.0100 - val_accuracy: 0.9956\n",
            "Epoch 33/50\n",
            "57/57 [==============================] - 0s 7ms/step - loss: 0.0020 - accuracy: 0.9994 - val_loss: 0.0066 - val_accuracy: 0.9956\n",
            "Epoch 34/50\n",
            "57/57 [==============================] - 0s 5ms/step - loss: 0.0021 - accuracy: 0.9994 - val_loss: 0.0058 - val_accuracy: 0.9956\n",
            "Epoch 35/50\n",
            "57/57 [==============================] - 0s 7ms/step - loss: 0.0023 - accuracy: 0.9983 - val_loss: 0.0087 - val_accuracy: 0.9956\n",
            "Epoch 36/50\n",
            "57/57 [==============================] - 0s 5ms/step - loss: 0.0023 - accuracy: 0.9994 - val_loss: 0.0063 - val_accuracy: 0.9956\n",
            "Epoch 37/50\n",
            "57/57 [==============================] - 0s 6ms/step - loss: 0.0020 - accuracy: 0.9994 - val_loss: 0.0052 - val_accuracy: 0.9956\n",
            "Epoch 38/50\n",
            "57/57 [==============================] - 0s 6ms/step - loss: 0.0021 - accuracy: 0.9983 - val_loss: 0.0059 - val_accuracy: 0.9956\n",
            "Epoch 39/50\n",
            "57/57 [==============================] - 0s 6ms/step - loss: 0.0018 - accuracy: 0.9994 - val_loss: 0.0056 - val_accuracy: 0.9956\n",
            "Epoch 40/50\n",
            "57/57 [==============================] - 0s 6ms/step - loss: 0.0017 - accuracy: 0.9994 - val_loss: 0.0054 - val_accuracy: 0.9956\n",
            "Epoch 41/50\n",
            "57/57 [==============================] - 0s 6ms/step - loss: 0.0017 - accuracy: 0.9989 - val_loss: 0.0079 - val_accuracy: 0.9956\n",
            "Epoch 42/50\n",
            "57/57 [==============================] - 0s 8ms/step - loss: 0.0019 - accuracy: 0.9994 - val_loss: 0.0057 - val_accuracy: 0.9956\n",
            "Epoch 43/50\n",
            "57/57 [==============================] - 0s 5ms/step - loss: 0.0019 - accuracy: 0.9989 - val_loss: 0.0053 - val_accuracy: 0.9956\n",
            "Epoch 44/50\n",
            "57/57 [==============================] - 0s 6ms/step - loss: 0.0020 - accuracy: 0.9989 - val_loss: 0.0063 - val_accuracy: 0.9956\n",
            "Epoch 45/50\n",
            "57/57 [==============================] - 0s 5ms/step - loss: 0.0020 - accuracy: 0.9994 - val_loss: 0.0056 - val_accuracy: 0.9956\n",
            "Epoch 46/50\n",
            "57/57 [==============================] - 0s 8ms/step - loss: 0.0016 - accuracy: 0.9989 - val_loss: 0.0091 - val_accuracy: 0.9956\n",
            "Epoch 47/50\n",
            "57/57 [==============================] - 0s 7ms/step - loss: 0.0023 - accuracy: 0.9989 - val_loss: 0.0069 - val_accuracy: 0.9956\n",
            "Epoch 48/50\n",
            "57/57 [==============================] - 0s 6ms/step - loss: 0.0017 - accuracy: 0.9994 - val_loss: 0.0058 - val_accuracy: 0.9956\n",
            "Epoch 49/50\n",
            "57/57 [==============================] - 0s 6ms/step - loss: 0.0019 - accuracy: 0.9989 - val_loss: 0.0068 - val_accuracy: 0.9956\n",
            "Epoch 50/50\n",
            "57/57 [==============================] - 0s 6ms/step - loss: 0.0019 - accuracy: 0.9994 - val_loss: 0.0051 - val_accuracy: 0.9978\n"
          ]
        }
      ],
      "source": [
        "model1 = tf.keras.models.Sequential([\n",
        "    tf.keras.layers.Dense(128, activation='relu', input_shape=(X_train.shape[1],)),\n",
        "    tf.keras.layers.Dense(64, activation='relu'),\n",
        "    tf.keras.layers.Dense(1, activation='sigmoid')\n",
        "])\n",
        "model1.compile(optimizer='adam', loss='binary_crossentropy', metrics=['accuracy'])\n",
        "history_classification=model1.fit(X_train, Y_train, epochs=50,validation_data=(X_test, Y_test))"
      ]
    },
    {
      "cell_type": "markdown",
      "metadata": {
        "id": "NiMBV5IL2iBI"
      },
      "source": [
        "Evaluasi model classification"
      ]
    },
    {
      "cell_type": "code",
      "execution_count": null,
      "metadata": {
        "colab": {
          "base_uri": "https://localhost:8080/",
          "height": 472
        },
        "id": "7FGB8ZZB79jI",
        "outputId": "41bcee41-eb77-4c27-d8af-dcb205af2c5b"
      },
      "outputs": [
        {
          "output_type": "display_data",
          "data": {
            "text/plain": [
              "<Figure size 640x480 with 1 Axes>"
            ],
            "image/png": "[encoded data removed]"
          },
          "metadata": {}
        }
      ],
      "source": [
        "plt.plot(history_classification.history['accuracy'])\n",
        "plt.plot(history_classification.history['val_accuracy'])\n",
        "plt.title('Model Accuracy')\n",
        "plt.ylabel(\"Accuracy\")\n",
        "plt.xlabel('Epoch')\n",
        "plt.legend(['Train', 'validation'])\n",
        "plt.show()"
      ]
    },
    {
      "cell_type": "code",
      "execution_count": null,
      "metadata": {
        "colab": {
          "base_uri": "https://localhost:8080/",
          "height": 472
        },
        "id": "mjEf1Ch69e1f",
        "outputId": "cdee20f9-0027-42dd-e89a-bc2e11b9d75e"
      },
      "outputs": [
        {
          "output_type": "display_data",
          "data": {
            "text/plain": [
              "<Figure size 640x480 with 1 Axes>"
            ],
            "image/png": "[encoded data removed]"
          },
          "metadata": {}
        }
      ],
      "source": [
        "plt.plot(history_classification.history['loss'])\n",
        "plt.plot(history_classification.history['val_loss'])\n",
        "plt.title('Model Loss')\n",
        "plt.ylabel(\"Loss\")\n",
        "plt.xlabel('Epoch')\n",
        "plt.legend(['Train', 'validation'])\n",
        "plt.show()"
      ]
    },
    {
      "cell_type": "markdown",
      "metadata": {
        "id": "fyP_oxRl2iBJ"
      },
      "source": [
        "# Model Rekomendasi"
      ]
    },
    {
      "cell_type": "code",
      "execution_count": null,
      "metadata": {
        "id": "9ADa7q8I2iBJ"
      },
      "outputs": [],
      "source": [
        "# Menginisialisasi fitur dan label untuk sistem rekomendasi\n",
        "label_encoder = LabelEncoder()\n",
        "therapy = label_encoder.fit_transform(data['Therapy'])\n",
        "features = data[['Speech', 'Sensory', 'Physical', 'Social', 'Total','ASD_traits']]"
      ]
    },
    {
      "cell_type": "code",
      "execution_count": null,
      "metadata": {
        "id": "4CjtmF7H2iBK"
      },
      "outputs": [],
      "source": [
        "# Split data training 80% dan testing 20%\n",
        "x_train = features[:training_size]\n",
        "x_test = features[training_size:]\n",
        "y_train = therapy[:training_size]\n",
        "y_test = therapy[training_size:]\n",
        "\n",
        "# Normalize data\n",
        "x_train_norm = ((x_train * x_train.mean())/x_train.std()).to_numpy()\n",
        "x_test_norm = ((x_test * x_test.mean())/x_test.std()).to_numpy()\n",
        "\n",
        "# One hot encoding labels\n",
        "y_train_encoded = tf.keras.utils.to_categorical(y_train, num_classes=12)\n",
        "y_test_encoded = tf.keras.utils.to_categorical(y_test, num_classes=12)"
      ]
    },
    {
      "cell_type": "code",
      "execution_count": null,
      "metadata": {
        "id": "x14bbChH2iBK",
        "outputId": "d9aef97b-0f1a-4541-9f53-5aafe90b411b",
        "colab": {
          "base_uri": "https://localhost:8080/"
        }
      },
      "outputs": [
        {
          "output_type": "stream",
          "name": "stdout",
          "text": [
            "Epoch 1/50\n",
            "57/57 [==============================] - 4s 14ms/step - loss: 1.6560 - accuracy: 0.4063 - val_loss: 1.5459 - val_accuracy: 0.5344\n",
            "Epoch 2/50\n",
            "57/57 [==============================] - 0s 8ms/step - loss: 1.3588 - accuracy: 0.6535 - val_loss: 1.2484 - val_accuracy: 0.7871\n",
            "Epoch 3/50\n",
            "57/57 [==============================] - 0s 7ms/step - loss: 1.0313 - accuracy: 0.8004 - val_loss: 0.9266 - val_accuracy: 0.8071\n",
            "Epoch 4/50\n",
            "57/57 [==============================] - 0s 7ms/step - loss: 0.7544 - accuracy: 0.8548 - val_loss: 0.7577 - val_accuracy: 0.8647\n",
            "Epoch 5/50\n",
            "57/57 [==============================] - 1s 10ms/step - loss: 0.6216 - accuracy: 0.8764 - val_loss: 0.6329 - val_accuracy: 0.8603\n",
            "Epoch 6/50\n",
            "57/57 [==============================] - 0s 7ms/step - loss: 0.5460 - accuracy: 0.8886 - val_loss: 0.6121 - val_accuracy: 0.8803\n",
            "Epoch 7/50\n",
            "57/57 [==============================] - 0s 7ms/step - loss: 0.5006 - accuracy: 0.8980 - val_loss: 0.5652 - val_accuracy: 0.8780\n",
            "Epoch 8/50\n",
            "57/57 [==============================] - 0s 7ms/step - loss: 0.4726 - accuracy: 0.8969 - val_loss: 0.5208 - val_accuracy: 0.8803\n",
            "Epoch 9/50\n",
            "57/57 [==============================] - 0s 6ms/step - loss: 0.4503 - accuracy: 0.8958 - val_loss: 0.4876 - val_accuracy: 0.8891\n",
            "Epoch 10/50\n",
            "57/57 [==============================] - 0s 5ms/step - loss: 0.4314 - accuracy: 0.9052 - val_loss: 0.5005 - val_accuracy: 0.8869\n",
            "Epoch 11/50\n",
            "57/57 [==============================] - 0s 8ms/step - loss: 0.4090 - accuracy: 0.9124 - val_loss: 0.4792 - val_accuracy: 0.9002\n",
            "Epoch 12/50\n",
            "57/57 [==============================] - 1s 14ms/step - loss: 0.3896 - accuracy: 0.9141 - val_loss: 0.4341 - val_accuracy: 0.8980\n",
            "Epoch 13/50\n",
            "57/57 [==============================] - 0s 6ms/step - loss: 0.3741 - accuracy: 0.9191 - val_loss: 0.4295 - val_accuracy: 0.9091\n",
            "Epoch 14/50\n",
            "57/57 [==============================] - 0s 8ms/step - loss: 0.3643 - accuracy: 0.9235 - val_loss: 0.4584 - val_accuracy: 0.9024\n",
            "Epoch 15/50\n",
            "57/57 [==============================] - 0s 7ms/step - loss: 0.3501 - accuracy: 0.9229 - val_loss: 0.4520 - val_accuracy: 0.9069\n",
            "Epoch 16/50\n",
            "57/57 [==============================] - 0s 7ms/step - loss: 0.3403 - accuracy: 0.9296 - val_loss: 0.4405 - val_accuracy: 0.9113\n",
            "Epoch 17/50\n",
            "57/57 [==============================] - 0s 7ms/step - loss: 0.3312 - accuracy: 0.9307 - val_loss: 0.4076 - val_accuracy: 0.9157\n",
            "Epoch 18/50\n",
            "57/57 [==============================] - 0s 7ms/step - loss: 0.3217 - accuracy: 0.9329 - val_loss: 0.4092 - val_accuracy: 0.9091\n",
            "Epoch 19/50\n",
            "57/57 [==============================] - 0s 7ms/step - loss: 0.3188 - accuracy: 0.9318 - val_loss: 0.3843 - val_accuracy: 0.9157\n",
            "Epoch 20/50\n",
            "57/57 [==============================] - 0s 4ms/step - loss: 0.3031 - accuracy: 0.9374 - val_loss: 0.3834 - val_accuracy: 0.9180\n",
            "Epoch 21/50\n",
            "57/57 [==============================] - 0s 4ms/step - loss: 0.2973 - accuracy: 0.9379 - val_loss: 0.4137 - val_accuracy: 0.9157\n",
            "Epoch 22/50\n",
            "57/57 [==============================] - 0s 4ms/step - loss: 0.3034 - accuracy: 0.9379 - val_loss: 0.4016 - val_accuracy: 0.9180\n",
            "Epoch 23/50\n",
            "57/57 [==============================] - 0s 4ms/step - loss: 0.2882 - accuracy: 0.9385 - val_loss: 0.3798 - val_accuracy: 0.9180\n",
            "Epoch 24/50\n",
            "57/57 [==============================] - 0s 5ms/step - loss: 0.2859 - accuracy: 0.9385 - val_loss: 0.3871 - val_accuracy: 0.9180\n",
            "Epoch 25/50\n",
            "57/57 [==============================] - 0s 5ms/step - loss: 0.2851 - accuracy: 0.9379 - val_loss: 0.3932 - val_accuracy: 0.9180\n",
            "Epoch 26/50\n",
            "57/57 [==============================] - 0s 5ms/step - loss: 0.2758 - accuracy: 0.9385 - val_loss: 0.4115 - val_accuracy: 0.9180\n",
            "Epoch 27/50\n",
            "57/57 [==============================] - 0s 5ms/step - loss: 0.2768 - accuracy: 0.9379 - val_loss: 0.4069 - val_accuracy: 0.9180\n",
            "Epoch 28/50\n",
            "57/57 [==============================] - 0s 5ms/step - loss: 0.2761 - accuracy: 0.9379 - val_loss: 0.3796 - val_accuracy: 0.9180\n",
            "Epoch 29/50\n",
            "57/57 [==============================] - 0s 5ms/step - loss: 0.2736 - accuracy: 0.9379 - val_loss: 0.3875 - val_accuracy: 0.9180\n",
            "Epoch 30/50\n",
            "57/57 [==============================] - 0s 5ms/step - loss: 0.2677 - accuracy: 0.9385 - val_loss: 0.4158 - val_accuracy: 0.9202\n",
            "Epoch 31/50\n",
            "57/57 [==============================] - 0s 5ms/step - loss: 0.2730 - accuracy: 0.9374 - val_loss: 0.4005 - val_accuracy: 0.9202\n",
            "Epoch 32/50\n",
            "57/57 [==============================] - 0s 5ms/step - loss: 0.2644 - accuracy: 0.9385 - val_loss: 0.3913 - val_accuracy: 0.9180\n",
            "Epoch 33/50\n",
            "57/57 [==============================] - 0s 4ms/step - loss: 0.2643 - accuracy: 0.9390 - val_loss: 0.3966 - val_accuracy: 0.9202\n",
            "Epoch 34/50\n",
            "57/57 [==============================] - 0s 4ms/step - loss: 0.2698 - accuracy: 0.9385 - val_loss: 0.4061 - val_accuracy: 0.9180\n",
            "Epoch 35/50\n",
            "57/57 [==============================] - 0s 5ms/step - loss: 0.2654 - accuracy: 0.9390 - val_loss: 0.3945 - val_accuracy: 0.9202\n",
            "Epoch 36/50\n",
            "57/57 [==============================] - 0s 5ms/step - loss: 0.2683 - accuracy: 0.9396 - val_loss: 0.3920 - val_accuracy: 0.9202\n",
            "Epoch 37/50\n",
            "57/57 [==============================] - 0s 4ms/step - loss: 0.2634 - accuracy: 0.9390 - val_loss: 0.4178 - val_accuracy: 0.9202\n",
            "Epoch 38/50\n",
            "57/57 [==============================] - 0s 4ms/step - loss: 0.2609 - accuracy: 0.9390 - val_loss: 0.4093 - val_accuracy: 0.9202\n",
            "Epoch 39/50\n",
            "57/57 [==============================] - 0s 3ms/step - loss: 0.2601 - accuracy: 0.9396 - val_loss: 0.4060 - val_accuracy: 0.9202\n",
            "Epoch 40/50\n",
            "57/57 [==============================] - 0s 4ms/step - loss: 0.2570 - accuracy: 0.9396 - val_loss: 0.3924 - val_accuracy: 0.9202\n",
            "Epoch 41/50\n",
            "57/57 [==============================] - 0s 3ms/step - loss: 0.2589 - accuracy: 0.9385 - val_loss: 0.3934 - val_accuracy: 0.9202\n",
            "Epoch 42/50\n",
            "57/57 [==============================] - 0s 4ms/step - loss: 0.2595 - accuracy: 0.9396 - val_loss: 0.3867 - val_accuracy: 0.9202\n",
            "Epoch 43/50\n",
            "57/57 [==============================] - 0s 4ms/step - loss: 0.2555 - accuracy: 0.9390 - val_loss: 0.3924 - val_accuracy: 0.9202\n",
            "Epoch 44/50\n",
            "57/57 [==============================] - 0s 3ms/step - loss: 0.2543 - accuracy: 0.9396 - val_loss: 0.3885 - val_accuracy: 0.9202\n",
            "Epoch 45/50\n",
            "57/57 [==============================] - 0s 3ms/step - loss: 0.2576 - accuracy: 0.9396 - val_loss: 0.3857 - val_accuracy: 0.9202\n",
            "Epoch 46/50\n",
            "57/57 [==============================] - 0s 4ms/step - loss: 0.2518 - accuracy: 0.9390 - val_loss: 0.4074 - val_accuracy: 0.9202\n",
            "Epoch 47/50\n",
            "57/57 [==============================] - 0s 3ms/step - loss: 0.2521 - accuracy: 0.9390 - val_loss: 0.4040 - val_accuracy: 0.9202\n",
            "Epoch 48/50\n",
            "57/57 [==============================] - 0s 3ms/step - loss: 0.2597 - accuracy: 0.9390 - val_loss: 0.3966 - val_accuracy: 0.9180\n",
            "Epoch 49/50\n",
            "57/57 [==============================] - 0s 3ms/step - loss: 0.2534 - accuracy: 0.9390 - val_loss: 0.4041 - val_accuracy: 0.9202\n",
            "Epoch 50/50\n",
            "57/57 [==============================] - 0s 4ms/step - loss: 0.2510 - accuracy: 0.9390 - val_loss: 0.4112 - val_accuracy: 0.9180\n"
          ]
        }
      ],
      "source": [
        "model2 = tf.keras.Sequential([\n",
        "    tf.keras.layers.Dense(128, input_shape=(6,), activation='relu'),\n",
        "    tf.keras.layers.Dense(64, activation='relu'),\n",
        "    tf.keras.layers.Dense(12, activation='softmax')\n",
        "])\n",
        "model2.compile(optimizer='adam', loss='categorical_crossentropy', metrics=['accuracy'])\n",
        "history_reccomendations = model2.fit(x_train, y_train_encoded, epochs=50, batch_size=32, verbose=1, validation_data=(x_test,y_test_encoded))"
      ]
    },
    {
      "cell_type": "code",
      "execution_count": null,
      "metadata": {
        "id": "DlsRXprB2iBL",
        "outputId": "6deddd28-fb8b-4c3a-ec67-0e86b6bb0d4d",
        "colab": {
          "base_uri": "https://localhost:8080/",
          "height": 472
        }
      },
      "outputs": [
        {
          "output_type": "display_data",
          "data": {
            "text/plain": [
              "<Figure size 640x480 with 1 Axes>"
            ],
            "image/png": "[encoded data removed]"
          },
          "metadata": {}
        }
      ],
      "source": [
        "plt.plot(history_reccomendations.history['accuracy'])\n",
        "plt.plot(history_reccomendations.history['val_accuracy'])\n",
        "plt.title('Model Accuracy Reccomendation System')\n",
        "plt.ylabel(\"Accuracy\")\n",
        "plt.xlabel('Epoch')\n",
        "plt.legend(['Train', 'validation'], loc='upper left')\n",
        "plt.show()"
      ]
    },
    {
      "cell_type": "code",
      "execution_count": null,
      "metadata": {
        "id": "cSMvcVgB2iBL",
        "outputId": "20cfdaec-95f4-4922-e19d-7b1b68d98be0",
        "colab": {
          "base_uri": "https://localhost:8080/",
          "height": 472
        }
      },
      "outputs": [
        {
          "output_type": "display_data",
          "data": {
            "text/plain": [
              "<Figure size 640x480 with 1 Axes>"
            ],
            "image/png": "[encoded data removed]"
          },
          "metadata": {}
        }
      ],
      "source": [
        "plt.plot(history_reccomendations.history['loss'])\n",
        "plt.plot(history_reccomendations.history['val_loss'])\n",
        "plt.title('Model Loss Reccomendation System')\n",
        "plt.ylabel(\"Loss\")\n",
        "plt.xlabel('Epoch')\n",
        "plt.legend(['Train', 'validation'])\n",
        "plt.show()"
      ]
    },
    {
      "cell_type": "code",
      "execution_count": null,
      "metadata": {
        "id": "9HCZUVLG9433"
      },
      "outputs": [],
      "source": [
        "# https://github.com/C23-PS475/Healcy_ML"
      ]
    },
    {
      "cell_type": "markdown",
      "source": [
        "# Prediksi model\n",
        "\n",
        "Prediksi Klasifikasi"
      ],
      "metadata": {
        "id": "kfmItVyBcrLe"
      }
    },
    {
      "cell_type": "code",
      "execution_count": null,
      "metadata": {
        "id": "dnxOYOqxAEPz",
        "colab": {
          "base_uri": "https://localhost:8080/"
        },
        "outputId": "a41ae79d-b6a9-45de-a24a-a9832ecb0bdb"
      },
      "outputs": [
        {
          "name": "stdout",
          "output_type": "stream",
          "text": [
            "A1: 0\n",
            "A2: 1\n",
            "A3: 1\n",
            "A4: 0\n",
            "A5: 1\n",
            "A6: 0\n",
            "A7: 0\n",
            "A8: 0\n",
            "A9: 1\n",
            "A10: 1\n",
            "Age: 2\n",
            "Sex: 0\n",
            "Jaudience: 1\n",
            "Family_mem_with_ASD: 1\n",
            "Who_completed_the_test: 0\n"
          ]
        }
      ],
      "source": [
        "# Input Time!\n",
        "input_A1 = int(input('A1: '))\n",
        "input_A2 = int(input('A2: '))\n",
        "input_A3 = int(input('A3: '))\n",
        "input_A4 = int(input('A4: '))\n",
        "input_A5 = int(input('A5: '))\n",
        "input_A6 = int(input('A6: '))\n",
        "input_A7 = int(input('A7: '))\n",
        "input_A8 = int(input('A8: '))\n",
        "input_A9 = int(input('A9: '))\n",
        "input_A10 = int(input('A10: '))\n",
        "input_speech = input_A1 + input_A5 + input_A3\n",
        "input_social = input_A1 + input_A2 + input_A3 + input_A4 + input_A6 + input_A7 + input_A9 + input_A10\n",
        "input_sensory = input_A1 + input_A6 + input_A8 + input_A10\n",
        "input_physical = input_A7 + input_A8 + input_A9\n",
        "input_total = input_A1 + input_A2 + input_A3 + input_A4 + input_A5 + input_A6 + input_A7 + input_A8 + input_A9 + input_A10\n",
        "input_Ages_Years = int(input('Age: '))\n",
        "input_Sex = int(input('Sex: '))\n",
        "input_Jaudience = int(input('Jaudience: '))\n",
        "input_Family_mem_with_ASD = int(input('Family_mem_with_ASD: '))\n",
        "input_Who_completed_the_test = int(input('Who_completed_the_test: '))\n"
      ]
    },
    {
      "cell_type": "code",
      "execution_count": null,
      "metadata": {
        "id": "4-lJwHW-kIjY"
      },
      "outputs": [],
      "source": [
        "user_input = pd.DataFrame([[input_A1, input_A2, input_A3, input_A4, input_A5,\n",
        "                            input_A6, input_A7, input_A8, input_A9, input_A10,\n",
        "                            input_speech, input_social, input_sensory, input_physical,\n",
        "                            input_total, input_Ages_Years, input_Sex, input_Jaudience,\n",
        "                            input_Family_mem_with_ASD, input_Who_completed_the_test]],\n",
        "                          columns=['A1','A2','A3','A4','A5','A6','A7','A8', 'A9', 'A10',\n",
        "                                   'Speech', 'Sensory', 'Physical', 'Social',\n",
        "                                   'Total', 'Age_Years', 'Sex', 'Jaudience',\n",
        "                                   'Family_mem_with_ASD', 'Who_completed_the_test'])"
      ]
    },
    {
      "cell_type": "code",
      "execution_count": null,
      "metadata": {
        "colab": {
          "base_uri": "https://localhost:8080/"
        },
        "id": "EEv0ETtbR7WZ",
        "outputId": "264ef1a7-f513-4ecd-acac-bb3cf744169c"
      },
      "outputs": [
        {
          "output_type": "stream",
          "name": "stdout",
          "text": [
            "1/1 [==============================] - 0s 94ms/step\n",
            "[[0.9999933]] Tidak ada kemungkinan ASD\n"
          ]
        }
      ],
      "source": [
        "# Membuat prediksi pada data uji\n",
        "predictions = model1.predict(user_input)\n",
        "# Mengevaluasi hasil prediksi (berdasarkan threshold 0.5)\n",
        "predicted_labels = (predictions > 0.5).astype(int)\n",
        "if predictions == 1:\n",
        "  print(f'{predictions} Ada kemungkinan ASD')\n",
        "else:\n",
        "  print(f'{predictions} Tidak ada kemungkinan ASD')"
      ]
    },
    {
      "cell_type": "markdown",
      "source": [
        "Melakukan prediksi untuk terapy"
      ],
      "metadata": {
        "id": "l90B34LnJqz7"
      }
    },
    {
      "cell_type": "code",
      "execution_count": null,
      "metadata": {
        "id": "xRD3qQ_l2iBM"
      },
      "outputs": [],
      "source": [
        "# Memasukkan prediksi ASD ke dalam frame yang sama\n",
        "# Untuk selanjutnya masuk ke rekomendasi terapi\n",
        "user_input['ASD_traits'] = predicted_labels\n",
        "user_input = user_input[['Speech', 'Sensory', 'Physical', 'Social', 'Total', 'ASD_traits']]\n"
      ]
    },
    {
      "cell_type": "code",
      "execution_count": null,
      "metadata": {
        "id": "Im825xNX2iBN",
        "outputId": "d22e7d42-6bd6-4b63-a017-4f3187f806ec",
        "colab": {
          "base_uri": "https://localhost:8080/"
        }
      },
      "outputs": [
        {
          "output_type": "stream",
          "name": "stdout",
          "text": [
            "1/1 [==============================] - 0s 23ms/step\n",
            "Top 3 Predicted Therapies (Original Labels):\n",
            "Sensory 2: 0.9568\n",
            "Sensory 1: 0.0432\n",
            "Speech 2: 0.0000\n"
          ]
        }
      ],
      "source": [
        "predictions = model2.predict(user_input)\n",
        "# Mengambil 5 hasil prediksi tertinggi\n",
        "top_n = 3\n",
        "top_indices = np.argsort(predictions[0])[::-1][:top_n]\n",
        "top_probabilities = predictions[0][top_indices]\n",
        "\n",
        "label_asli = {1:'Speech 1', 2:'Speech 2', 3: 'Speech 3', 4:'Social 1', 5:'Social 2', 6:'Social 3',\n",
        "              7:'Sensory 1', 8:'Sensory 2', 9:'Sensory 3', 10:'Physical 1', 11:'Physical 2', 12:'Physical 3'}\n",
        "\n",
        "# Menampilkan hasil prediksi dalam bentuk label asli\n",
        "print(f\"Top {top_n} Predicted Therapies (Original Labels):\")\n",
        "for label, prob in zip(top_indices, top_probabilities):\n",
        "    original_label = label_asli[label]\n",
        "    print(f\"{original_label}: {prob:.4f}\")"
      ]
    }
  ],
  "metadata": {
    "colab": {
      "provenance": []
    },
    "kernelspec": {
      "display_name": "Python 3",
      "name": "python3"
    },
    "language_info": {
      "codemirror_mode": {
        "name": "ipython",
        "version": 3
      },
      "file_extension": ".py",
      "mimetype": "text/x-python",
      "name": "python",
      "nbconvert_exporter": "python",
      "pygments_lexer": "ipython3",
      "version": "3.11.2"
    }
  },
  "nbformat": 4,
  "nbformat_minor": 0
}
